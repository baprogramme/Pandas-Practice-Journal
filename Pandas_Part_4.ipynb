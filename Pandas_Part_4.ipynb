{
  "nbformat": 4,
  "nbformat_minor": 0,
  "metadata": {
    "colab": {
      "provenance": [],
      "authorship_tag": "ABX9TyOPr/A2mczkRJLZAxbvlmzI"
    },
    "kernelspec": {
      "name": "python3",
      "display_name": "Python 3"
    },
    "language_info": {
      "name": "python"
    }
  },
  "cells": [
    {
      "cell_type": "markdown",
      "source": [
        "Create a DataFrame with random values."
      ],
      "metadata": {
        "id": "rVJhS1Tom-zO"
      }
    },
    {
      "cell_type": "code",
      "source": [
        "import pandas as pd\n",
        "import numpy as np\n",
        "data = np.random.rand(4, 3)\n",
        "df = pd.DataFrame(data, columns=['X', 'Y', 'Z'])\n",
        "print(df)"
      ],
      "metadata": {
        "colab": {
          "base_uri": "https://localhost:8080/"
        },
        "id": "HG75_MgsnFsK",
        "outputId": "a0619961-4a74-4f2c-937e-e22d0db46833"
      },
      "execution_count": 1,
      "outputs": [
        {
          "output_type": "stream",
          "name": "stdout",
          "text": [
            "          X         Y         Z\n",
            "0  0.144903  0.926589  0.234760\n",
            "1  0.515912  0.509388  0.611735\n",
            "2  0.350673  0.138602  0.814616\n",
            "3  0.983335  0.492114  0.000114\n"
          ]
        }
      ]
    },
    {
      "cell_type": "markdown",
      "source": [
        "Calculate the rank of values in a DataFrame."
      ],
      "metadata": {
        "id": "0vDxn2zunYWj"
      }
    },
    {
      "cell_type": "code",
      "source": [
        "import pandas as pd\n",
        "data = {'X': [3, 1, 4, 1], 'Y': [2, 3, 1, 4]}\n",
        "df = pd.DataFrame(data)\n",
        "df['Rank'] = df['X'].rank()\n",
        "print(df)"
      ],
      "metadata": {
        "colab": {
          "base_uri": "https://localhost:8080/"
        },
        "id": "mE49tXoYncy1",
        "outputId": "6078a023-3d36-4130-8f90-cb78cb2ddbff"
      },
      "execution_count": 2,
      "outputs": [
        {
          "output_type": "stream",
          "name": "stdout",
          "text": [
            "   X  Y  Rank\n",
            "0  3  2   3.0\n",
            "1  1  3   1.5\n",
            "2  4  1   4.0\n",
            "3  1  4   1.5\n"
          ]
        }
      ]
    },
    {
      "cell_type": "markdown",
      "source": [
        "Change the data type of a column."
      ],
      "metadata": {
        "id": "5wDUEMf0nydN"
      }
    },
    {
      "cell_type": "code",
      "source": [
        "import pandas as pd\n",
        "data = {'X': ['1', '2', '3']}\n",
        "df = pd.DataFrame(data)\n",
        "df['X'] = df['X'].astype(int)\n",
        "print(df)"
      ],
      "metadata": {
        "colab": {
          "base_uri": "https://localhost:8080/"
        },
        "id": "kZksRaJUnzkV",
        "outputId": "ce958c2a-1c56-4713-fbae-5556c8fdee84"
      },
      "execution_count": 3,
      "outputs": [
        {
          "output_type": "stream",
          "name": "stdout",
          "text": [
            "   X\n",
            "0  1\n",
            "1  2\n",
            "2  3\n"
          ]
        }
      ]
    },
    {
      "cell_type": "markdown",
      "source": [
        "Filter rows based on string matching."
      ],
      "metadata": {
        "id": "T2Z0yfwKn_Mo"
      }
    },
    {
      "cell_type": "code",
      "source": [
        "import pandas as pd\n",
        "data = {'X': ['foo', 'bar', 'baz', 'qux']}\n",
        "df = pd.DataFrame(data)\n",
        "filtered_df = df[df['X'].str.contains('ba')]\n",
        "print(filtered_df)"
      ],
      "metadata": {
        "colab": {
          "base_uri": "https://localhost:8080/"
        },
        "id": "4UhGNAX4oDoo",
        "outputId": "6ff5f2b7-f7c6-4bee-b571-4517d704ea71"
      },
      "execution_count": 4,
      "outputs": [
        {
          "output_type": "stream",
          "name": "stdout",
          "text": [
            "     X\n",
            "1  bar\n",
            "2  baz\n"
          ]
        }
      ]
    },
    {
      "cell_type": "markdown",
      "source": [
        "Create a DataFrame with specified row and column labels."
      ],
      "metadata": {
        "id": "BjcxPh5QoMxm"
      }
    },
    {
      "cell_type": "code",
      "source": [
        "import pandas as pd\n",
        "data = [[1, 2, 3], [4, 5, 6], [7, 8, 9]]\n",
        "df = pd.DataFrame(data, index=['row1', 'row2', 'row3'], columns=['col1', 'col2', 'col3'])\n",
        "print(df)"
      ],
      "metadata": {
        "colab": {
          "base_uri": "https://localhost:8080/"
        },
        "id": "f2iYbfPgoNul",
        "outputId": "5346cb58-d9c5-4663-a149-1972a504b1a5"
      },
      "execution_count": 5,
      "outputs": [
        {
          "output_type": "stream",
          "name": "stdout",
          "text": [
            "      col1  col2  col3\n",
            "row1     1     2     3\n",
            "row2     4     5     6\n",
            "row3     7     8     9\n"
          ]
        }
      ]
    },
    {
      "cell_type": "markdown",
      "source": [
        "Transpose a DataFrame."
      ],
      "metadata": {
        "id": "9vw6mnx_oa7W"
      }
    },
    {
      "cell_type": "code",
      "source": [
        "import pandas as pd\n",
        "data = {'X': [1, 2, 3], 'Y': [4, 5, 6]}\n",
        "df = pd.DataFrame(data)\n",
        "transposed_df = df.T\n",
        "print(transposed_df)"
      ],
      "metadata": {
        "colab": {
          "base_uri": "https://localhost:8080/"
        },
        "id": "Vl_FLwBuocHU",
        "outputId": "60f3052c-244a-44da-9efe-c26e39472351"
      },
      "execution_count": 6,
      "outputs": [
        {
          "output_type": "stream",
          "name": "stdout",
          "text": [
            "   0  1  2\n",
            "X  1  2  3\n",
            "Y  4  5  6\n"
          ]
        }
      ]
    },
    {
      "cell_type": "markdown",
      "source": [
        "Set a column as the index of a DataFrame."
      ],
      "metadata": {
        "id": "ncNHU8K2olTP"
      }
    },
    {
      "cell_type": "code",
      "source": [
        "import pandas as pd\n",
        "data = {'X': [1, 2, 3], 'Y': [4, 5, 6]}\n",
        "df = pd.DataFrame(data)\n",
        "df.set_index('X', inplace=True)\n",
        "print(df)"
      ],
      "metadata": {
        "colab": {
          "base_uri": "https://localhost:8080/"
        },
        "id": "BwzfFEtuomjA",
        "outputId": "949883a5-396b-4c91-a503-4ffd75543586"
      },
      "execution_count": 7,
      "outputs": [
        {
          "output_type": "stream",
          "name": "stdout",
          "text": [
            "   Y\n",
            "X   \n",
            "1  4\n",
            "2  5\n",
            "3  6\n"
          ]
        }
      ]
    },
    {
      "cell_type": "markdown",
      "source": [
        "Reset the index of a DataFrame."
      ],
      "metadata": {
        "id": "aJvY01mxo5Kv"
      }
    },
    {
      "cell_type": "code",
      "source": [
        "import pandas as pd\n",
        "data = {'X': [1, 2, 3], 'Y': [4, 5, 6]}\n",
        "df = pd.DataFrame(data)\n",
        "df.set_index('X', inplace=True)\n",
        "df.reset_index(inplace=True)\n",
        "print(df)"
      ],
      "metadata": {
        "colab": {
          "base_uri": "https://localhost:8080/"
        },
        "id": "dYMfHuTeo6DD",
        "outputId": "7fc36903-46ac-4349-a768-41f9aafa8cae"
      },
      "execution_count": 8,
      "outputs": [
        {
          "output_type": "stream",
          "name": "stdout",
          "text": [
            "   X  Y\n",
            "0  1  4\n",
            "1  2  5\n",
            "2  3  6\n"
          ]
        }
      ]
    },
    {
      "cell_type": "markdown",
      "source": [
        "Add a prefix or suffix to column names."
      ],
      "metadata": {
        "id": "gvHxDbRrpIgn"
      }
    },
    {
      "cell_type": "code",
      "source": [
        "import pandas as pd\n",
        "data = {'X': [1, 2, 3], 'Y': [4, 5, 6]}\n",
        "df = pd.DataFrame(data)\n",
        "df = df.add_prefix('col_')\n",
        "print(df)"
      ],
      "metadata": {
        "colab": {
          "base_uri": "https://localhost:8080/"
        },
        "id": "SwEjDW2TpJpH",
        "outputId": "82ecd787-b3e2-42c8-b255-4a53a02a0d68"
      },
      "execution_count": 9,
      "outputs": [
        {
          "output_type": "stream",
          "name": "stdout",
          "text": [
            "   col_X  col_Y\n",
            "0      1      4\n",
            "1      2      5\n",
            "2      3      6\n"
          ]
        }
      ]
    },
    {
      "cell_type": "markdown",
      "source": [
        "Filter rows based on datetime index."
      ],
      "metadata": {
        "id": "jS8CrnO6pQwp"
      }
    },
    {
      "cell_type": "code",
      "source": [
        "import pandas as pd\n",
        "date_range = pd.date_range(start='1/1/2020', periods=5, freq='D')\n",
        "data = {'X': [1, 2, 3, 4, 5]}\n",
        "df = pd.DataFrame(data, index=date_range)\n",
        "filtered_df = df['2020-01-03':'2020-01-05']\n",
        "print(filtered_df)"
      ],
      "metadata": {
        "colab": {
          "base_uri": "https://localhost:8080/"
        },
        "id": "r1R9fKuIpR9p",
        "outputId": "c6659b27-f59a-4495-ecdc-47d5f07ecfbc"
      },
      "execution_count": 10,
      "outputs": [
        {
          "output_type": "stream",
          "name": "stdout",
          "text": [
            "            X\n",
            "2020-01-03  3\n",
            "2020-01-04  4\n",
            "2020-01-05  5\n"
          ]
        }
      ]
    }
  ]
}