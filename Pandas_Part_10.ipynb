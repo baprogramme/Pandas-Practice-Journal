{
  "nbformat": 4,
  "nbformat_minor": 0,
  "metadata": {
    "colab": {
      "provenance": [],
      "authorship_tag": "ABX9TyMPrOMfSpTpYwFQxuwkpsW0"
    },
    "kernelspec": {
      "name": "python3",
      "display_name": "Python 3"
    },
    "language_info": {
      "name": "python"
    }
  },
  "cells": [
    {
      "cell_type": "markdown",
      "source": [
        "Create a DataFrame and calculate the rolling mean for each group."
      ],
      "metadata": {
        "id": "qcVrHzyawDcm"
      }
    },
    {
      "cell_type": "code",
      "source": [
        "import pandas as pd\n",
        "data = {'X': ['foo', 'bar', 'foo', 'bar', 'foo', 'bar', 'foo', 'bar', 'foo', 'bar'], 'Y': range(10)}\n",
        "df = pd.DataFrame(data)\n",
        "df['Rolling_Mean'] = df.groupby('X')['Y'].rolling(window=3).mean().reset_index(level=0, drop=True)\n",
        "print(df)\n"
      ],
      "metadata": {
        "colab": {
          "base_uri": "https://localhost:8080/"
        },
        "id": "CTpmd6OtwV_C",
        "outputId": "160dd84d-29f8-4c26-d829-329a98847062"
      },
      "execution_count": 2,
      "outputs": [
        {
          "output_type": "stream",
          "name": "stdout",
          "text": [
            "     X  Y  Rolling_Mean\n",
            "0  foo  0           NaN\n",
            "1  bar  1           NaN\n",
            "2  foo  2           NaN\n",
            "3  bar  3           NaN\n",
            "4  foo  4           2.0\n",
            "5  bar  5           3.0\n",
            "6  foo  6           4.0\n",
            "7  bar  7           5.0\n",
            "8  foo  8           6.0\n",
            "9  bar  9           7.0\n"
          ]
        }
      ]
    },
    {
      "cell_type": "markdown",
      "source": [
        "Create a DataFrame with random values and calculate the rolling standard deviation for each group."
      ],
      "metadata": {
        "id": "s5nyCrRqwZXr"
      }
    },
    {
      "cell_type": "code",
      "source": [
        "import pandas as pd\n",
        "import numpy as np\n",
        "data = np.random.rand(10, 3)\n",
        "df = pd.DataFrame(data, columns=['X', 'Y', 'Z'])\n",
        "df['Rolling_Std'] = df.groupby('X')['Y'].rolling(window=3).std().reset_index(level=0, drop=True)\n",
        "print(df)"
      ],
      "metadata": {
        "colab": {
          "base_uri": "https://localhost:8080/"
        },
        "id": "OziiNjnzwbze",
        "outputId": "7cf87787-37e1-462e-c0bd-5565b1fa05fb"
      },
      "execution_count": 3,
      "outputs": [
        {
          "output_type": "stream",
          "name": "stdout",
          "text": [
            "          X         Y         Z  Rolling_Std\n",
            "0  0.688291  0.303810  0.659088          NaN\n",
            "1  0.168305  0.123182  0.634836          NaN\n",
            "2  0.695524  0.507161  0.771542          NaN\n",
            "3  0.480760  0.197975  0.936458          NaN\n",
            "4  0.059235  0.104895  0.742056          NaN\n",
            "5  0.693954  0.032324  0.000936          NaN\n",
            "6  0.886167  0.890469  0.005727          NaN\n",
            "7  0.136540  0.802758  0.105948          NaN\n",
            "8  0.828331  0.587361  0.305680          NaN\n",
            "9  0.668197  0.900400  0.396261          NaN\n"
          ]
        }
      ]
    },
    {
      "cell_type": "markdown",
      "source": [
        "Create a DataFrame and calculate the rolling variance for each group."
      ],
      "metadata": {
        "id": "YMUQeZ1swgQf"
      }
    },
    {
      "cell_type": "code",
      "source": [
        "import pandas as pd\n",
        "data = {'X': ['foo', 'bar', 'foo', 'bar', 'foo', 'bar', 'foo', 'bar', 'foo', 'bar'], 'Y': range(10)}\n",
        "df = pd.DataFrame(data)\n",
        "df['Rolling_Var'] = df.groupby('X')['Y'].rolling(window=3).var().reset_index(level=0, drop=True)\n",
        "print(df)\n"
      ],
      "metadata": {
        "colab": {
          "base_uri": "https://localhost:8080/"
        },
        "id": "pmoPuerHwiNr",
        "outputId": "cf734509-8335-4015-e2d1-13c42b438537"
      },
      "execution_count": 4,
      "outputs": [
        {
          "output_type": "stream",
          "name": "stdout",
          "text": [
            "     X  Y  Rolling_Var\n",
            "0  foo  0          NaN\n",
            "1  bar  1          NaN\n",
            "2  foo  2          NaN\n",
            "3  bar  3          NaN\n",
            "4  foo  4          4.0\n",
            "5  bar  5          4.0\n",
            "6  foo  6          4.0\n",
            "7  bar  7          4.0\n",
            "8  foo  8          4.0\n",
            "9  bar  9          4.0\n"
          ]
        }
      ]
    },
    {
      "cell_type": "markdown",
      "source": [
        "Create a DataFrame with random values and calculate the rolling correlation for each group."
      ],
      "metadata": {
        "id": "Y8YQSViMwmSp"
      }
    },
    {
      "cell_type": "code",
      "source": [
        "import pandas as pd\n",
        "import numpy as np\n",
        "# Create a DataFrame with random values\n",
        "np.random.seed(42)  # For reproducibility\n",
        "data = np.random.rand(10, 3)\n",
        "df = pd.DataFrame(data, columns=['X', 'Y', 'Z'])\n",
        "# Optionally create a group column if necessary\n",
        "df['Group'] = np.random.choice(['A', 'B'], size=10)\n",
        "# Calculate the rolling correlation for each group\n",
        "df['Rolling_Corr'] = df.groupby('Group').apply(lambda group: group['Y'].rolling(window=3).corr(group['Z'])).reset_index(level=0, drop=True)\n",
        "print(df)\n"
      ],
      "metadata": {
        "colab": {
          "base_uri": "https://localhost:8080/"
        },
        "id": "ioD8_bUpwmzD",
        "outputId": "a8f8ea7a-5553-4301-ec9d-54c526add2f5"
      },
      "execution_count": 5,
      "outputs": [
        {
          "output_type": "stream",
          "name": "stdout",
          "text": [
            "          X         Y         Z Group  Rolling_Corr\n",
            "0  0.374540  0.950714  0.731994     A           NaN\n",
            "1  0.598658  0.156019  0.155995     A           NaN\n",
            "2  0.058084  0.866176  0.601115     A      0.992633\n",
            "3  0.708073  0.020584  0.969910     A     -0.095420\n",
            "4  0.832443  0.212339  0.181825     A     -0.180021\n",
            "5  0.183405  0.304242  0.524756     B           NaN\n",
            "6  0.431945  0.291229  0.611853     B           NaN\n",
            "7  0.139494  0.292145  0.366362     A     -0.869948\n",
            "8  0.456070  0.785176  0.199674     B     -0.984073\n",
            "9  0.514234  0.592415  0.046450     B     -0.788379\n"
          ]
        },
        {
          "output_type": "stream",
          "name": "stderr",
          "text": [
            "/tmp/ipython-input-5-1361020685.py:10: DeprecationWarning: DataFrameGroupBy.apply operated on the grouping columns. This behavior is deprecated, and in a future version of pandas the grouping columns will be excluded from the operation. Either pass `include_groups=False` to exclude the groupings or explicitly select the grouping columns after groupby to silence this warning.\n",
            "  df['Rolling_Corr'] = df.groupby('Group').apply(lambda group: group['Y'].rolling(window=3).corr(group['Z'])).reset_index(level=0, drop=True)\n"
          ]
        }
      ]
    },
    {
      "cell_type": "markdown",
      "source": [
        "Create a DataFrame and calculate the rolling covariance for each group."
      ],
      "metadata": {
        "id": "BwswwNbQwzjo"
      }
    },
    {
      "cell_type": "code",
      "source": [
        "import pandas as pd\n",
        "\n",
        "# Create a DataFrame with sample data\n",
        "data = {'X': ['foo', 'bar', 'foo', 'bar', 'foo', 'bar', 'foo', 'bar', 'foo', 'bar'],\n",
        "        'Y': range(10), 'Z': range(10, 20)}\n",
        "df = pd.DataFrame(data)\n",
        "# Calculate the rolling covariance for each group\n",
        "rolling_cov = df.groupby('X').apply(lambda group: group['Y'].rolling(window=3).cov(group['Z'])).reset_index(level=0, drop=True)\n",
        "# Add the rolling covariance to the original DataFrame\n",
        "df['Rolling_Cov'] = rolling_cov\n",
        "print(df)\n"
      ],
      "metadata": {
        "colab": {
          "base_uri": "https://localhost:8080/"
        },
        "id": "q_FJLQB8w0f3",
        "outputId": "0ddca721-7873-4e31-c015-ade13308d0d8"
      },
      "execution_count": 6,
      "outputs": [
        {
          "output_type": "stream",
          "name": "stdout",
          "text": [
            "     X  Y   Z  Rolling_Cov\n",
            "0  foo  0  10          NaN\n",
            "1  bar  1  11          NaN\n",
            "2  foo  2  12          NaN\n",
            "3  bar  3  13          NaN\n",
            "4  foo  4  14          4.0\n",
            "5  bar  5  15          4.0\n",
            "6  foo  6  16          4.0\n",
            "7  bar  7  17          4.0\n",
            "8  foo  8  18          4.0\n",
            "9  bar  9  19          4.0\n"
          ]
        },
        {
          "output_type": "stream",
          "name": "stderr",
          "text": [
            "/tmp/ipython-input-6-1196997612.py:8: DeprecationWarning: DataFrameGroupBy.apply operated on the grouping columns. This behavior is deprecated, and in a future version of pandas the grouping columns will be excluded from the operation. Either pass `include_groups=False` to exclude the groupings or explicitly select the grouping columns after groupby to silence this warning.\n",
            "  rolling_cov = df.groupby('X').apply(lambda group: group['Y'].rolling(window=3).cov(group['Z'])).reset_index(level=0, drop=True)\n"
          ]
        }
      ]
    },
    {
      "cell_type": "markdown",
      "source": [
        "Create a DataFrame with random values and calculate the rolling skewness for each group."
      ],
      "metadata": {
        "id": "GULbx0YIw3TS"
      }
    },
    {
      "cell_type": "code",
      "source": [
        "import pandas as pd\n",
        "import numpy as np\n",
        "data = np.random.rand(10, 3)\n",
        "df = pd.DataFrame(data, columns=['X', 'Y', 'Z'])\n",
        "df['Rolling_Skew'] = df.groupby('X')['Y'].rolling(window=3).skew().reset_index(level=0, drop=True)\n",
        "print(df)\n"
      ],
      "metadata": {
        "colab": {
          "base_uri": "https://localhost:8080/"
        },
        "id": "Fnw-HZ1Yw5dX",
        "outputId": "b2747ef4-20fe-44ce-ba1a-7eda3b95505e"
      },
      "execution_count": 7,
      "outputs": [
        {
          "output_type": "stream",
          "name": "stdout",
          "text": [
            "          X         Y         Z  Rolling_Skew\n",
            "0  0.808397  0.304614  0.097672           NaN\n",
            "1  0.684233  0.440152  0.122038           NaN\n",
            "2  0.495177  0.034389  0.909320           NaN\n",
            "3  0.258780  0.662522  0.311711           NaN\n",
            "4  0.520068  0.546710  0.184854           NaN\n",
            "5  0.969585  0.775133  0.939499           NaN\n",
            "6  0.894827  0.597900  0.921874           NaN\n",
            "7  0.088493  0.195983  0.045227           NaN\n",
            "8  0.325330  0.388677  0.271349           NaN\n",
            "9  0.828738  0.356753  0.280935           NaN\n"
          ]
        }
      ]
    },
    {
      "cell_type": "markdown",
      "source": [
        "Create a DataFrame and calculate the rolling kurtosis for each group."
      ],
      "metadata": {
        "id": "vuLric-Mw-zN"
      }
    },
    {
      "cell_type": "code",
      "source": [
        "import pandas as pd\n",
        "data = {'X': ['foo', 'bar', 'foo', 'bar', 'foo', 'bar', 'foo', 'bar', 'foo', 'bar'], 'Y': range(10)}\n",
        "df = pd.DataFrame(data)\n",
        "df['Rolling_Kurt'] = df.groupby('X')['Y'].rolling(window=3).kurt().reset_index(level=0, drop=True)\n",
        "print(df)\n"
      ],
      "metadata": {
        "colab": {
          "base_uri": "https://localhost:8080/"
        },
        "id": "RFvBUMC4w_SG",
        "outputId": "086f33ee-10c6-4449-ddab-cebc3c9c501d"
      },
      "execution_count": 8,
      "outputs": [
        {
          "output_type": "stream",
          "name": "stdout",
          "text": [
            "     X  Y  Rolling_Kurt\n",
            "0  foo  0           NaN\n",
            "1  bar  1           NaN\n",
            "2  foo  2           NaN\n",
            "3  bar  3           NaN\n",
            "4  foo  4           NaN\n",
            "5  bar  5           NaN\n",
            "6  foo  6           NaN\n",
            "7  bar  7           NaN\n",
            "8  foo  8           NaN\n",
            "9  bar  9           NaN\n"
          ]
        }
      ]
    },
    {
      "cell_type": "markdown",
      "source": [
        "Create a DataFrame with random values and calculate the rolling median for each group."
      ],
      "metadata": {
        "id": "-DBlX3B5xEYc"
      }
    },
    {
      "cell_type": "code",
      "source": [
        "import pandas as pd\n",
        "import numpy as np\n",
        "data = np.random.rand(10, 3)\n",
        "df = pd.DataFrame(data, columns=['X', 'Y', 'Z'])\n",
        "df['Rolling_Median'] = df.groupby('X')['Y'].rolling(window=3).median().reset_index(level=0, drop=True)\n",
        "print(df)\n"
      ],
      "metadata": {
        "colab": {
          "base_uri": "https://localhost:8080/"
        },
        "id": "l28zak0-xE51",
        "outputId": "611a0c42-d0a4-4c2b-a097-3e8afb6cf344"
      },
      "execution_count": 9,
      "outputs": [
        {
          "output_type": "stream",
          "name": "stdout",
          "text": [
            "          X         Y         Z  Rolling_Median\n",
            "0  0.542696  0.140924  0.802197             NaN\n",
            "1  0.074551  0.986887  0.772245             NaN\n",
            "2  0.198716  0.005522  0.815461             NaN\n",
            "3  0.706857  0.729007  0.771270             NaN\n",
            "4  0.074045  0.358466  0.115869             NaN\n",
            "5  0.863103  0.623298  0.330898             NaN\n",
            "6  0.063558  0.310982  0.325183             NaN\n",
            "7  0.729606  0.637557  0.887213             NaN\n",
            "8  0.472215  0.119594  0.713245             NaN\n",
            "9  0.760785  0.561277  0.770967             NaN\n"
          ]
        }
      ]
    },
    {
      "cell_type": "markdown",
      "source": [
        "Create a DataFrame and calculate the expanding sum for each group."
      ],
      "metadata": {
        "id": "XLMJQEsDxLRN"
      }
    },
    {
      "cell_type": "code",
      "source": [
        "import pandas as pd\n",
        "data = {'X': ['foo', 'bar', 'foo', 'bar', 'foo', 'bar', 'foo', 'bar', 'foo', 'bar'], 'Y': range(10)}\n",
        "df = pd.DataFrame(data)\n",
        "df['Expanding_Sum'] = df.groupby('X')['Y'].expanding().sum().reset_index(level=0, drop=True)\n",
        "print(df)\n"
      ],
      "metadata": {
        "colab": {
          "base_uri": "https://localhost:8080/"
        },
        "id": "4RXR8mTrxL64",
        "outputId": "5b1912c4-8ff6-4abb-cccc-785e35e89827"
      },
      "execution_count": 10,
      "outputs": [
        {
          "output_type": "stream",
          "name": "stdout",
          "text": [
            "     X  Y  Expanding_Sum\n",
            "0  foo  0            0.0\n",
            "1  bar  1            1.0\n",
            "2  foo  2            2.0\n",
            "3  bar  3            4.0\n",
            "4  foo  4            6.0\n",
            "5  bar  5            9.0\n",
            "6  foo  6           12.0\n",
            "7  bar  7           16.0\n",
            "8  foo  8           20.0\n",
            "9  bar  9           25.0\n"
          ]
        }
      ]
    }
  ]
}