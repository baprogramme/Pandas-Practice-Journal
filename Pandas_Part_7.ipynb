{
  "nbformat": 4,
  "nbformat_minor": 0,
  "metadata": {
    "colab": {
      "provenance": [],
      "authorship_tag": "ABX9TyPSA3khQhYw3+XmzvM+pcFD"
    },
    "kernelspec": {
      "name": "python3",
      "display_name": "Python 3"
    },
    "language_info": {
      "name": "python"
    }
  },
  "cells": [
    {
      "cell_type": "markdown",
      "source": [
        "Create a DataFrame with datetime index and resample by month."
      ],
      "metadata": {
        "id": "m7Myj_A6wt9z"
      }
    },
    {
      "cell_type": "code",
      "source": [
        "import pandas as pd\n",
        "date_range = pd.date_range(start='1/1/2020', periods=100, freq='D')\n",
        "data = {'X': range(100)}\n",
        "df = pd.DataFrame(data, index=date_range)\n",
        "monthly_df = df.resample('M').sum()\n",
        "print(monthly_df)"
      ],
      "metadata": {
        "colab": {
          "base_uri": "https://localhost:8080/"
        },
        "id": "WKvVAuSgP8f4",
        "outputId": "bedada33-80ec-4dba-bd1a-fa59fb8414d6"
      },
      "execution_count": 1,
      "outputs": [
        {
          "output_type": "stream",
          "name": "stdout",
          "text": [
            "               X\n",
            "2020-01-31   465\n",
            "2020-02-29  1305\n",
            "2020-03-31  2325\n",
            "2020-04-30   855\n"
          ]
        },
        {
          "output_type": "stream",
          "name": "stderr",
          "text": [
            "/tmp/ipython-input-1-1838026543.py:5: FutureWarning: 'M' is deprecated and will be removed in a future version, please use 'ME' instead.\n",
            "  monthly_df = df.resample('M').sum()\n"
          ]
        }
      ]
    },
    {
      "cell_type": "markdown",
      "source": [
        "Create a DataFrame and calculate the exponential moving average."
      ],
      "metadata": {
        "id": "fPgEzDWsQGoY"
      }
    },
    {
      "cell_type": "code",
      "source": [
        "import pandas as pd\n",
        "data = {'X': [1, 2, 3, 4, 5, 6]}\n",
        "df = pd.DataFrame(data)\n",
        "df['EMA'] = df['X'].ewm(span=3, adjust=False).mean()\n",
        "print(df)"
      ],
      "metadata": {
        "colab": {
          "base_uri": "https://localhost:8080/"
        },
        "id": "ho7so92nQH2c",
        "outputId": "ce98bc53-8a85-425a-aa0d-e52228fd589a"
      },
      "execution_count": 2,
      "outputs": [
        {
          "output_type": "stream",
          "name": "stdout",
          "text": [
            "   X      EMA\n",
            "0  1  1.00000\n",
            "1  2  1.50000\n",
            "2  3  2.25000\n",
            "3  4  3.12500\n",
            "4  5  4.06250\n",
            "5  6  5.03125\n"
          ]
        }
      ]
    },
    {
      "cell_type": "markdown",
      "source": [
        "Create a DataFrame with random integers and calculate the mode."
      ],
      "metadata": {
        "id": "ThdjGTGxQ2DF"
      }
    },
    {
      "cell_type": "code",
      "source": [
        "import pandas as pd\n",
        "import numpy as np\n",
        "data = np.random.randint(1, 10, size=(5, 3))\n",
        "df = pd.DataFrame(data, columns=['X', 'Y', 'Z'])\n",
        "print(df.mode())"
      ],
      "metadata": {
        "colab": {
          "base_uri": "https://localhost:8080/"
        },
        "id": "G70uPcjwQ3eK",
        "outputId": "7786bc97-6824-45c2-e28d-6dfdf1000ff5"
      },
      "execution_count": 8,
      "outputs": [
        {
          "output_type": "stream",
          "name": "stdout",
          "text": [
            "     X  Y  Z\n",
            "0  5.0  1  3\n",
            "1  NaN  3  4\n",
            "2  NaN  4  5\n",
            "3  NaN  6  8\n",
            "4  NaN  9  9\n"
          ]
        }
      ]
    },
    {
      "cell_type": "markdown",
      "source": [
        "Create a DataFrame and calculate the z-score of each column."
      ],
      "metadata": {
        "id": "DejWfLQXRdKi"
      }
    },
    {
      "cell_type": "code",
      "source": [
        "import pandas as pd\n",
        "import numpy as np\n",
        "data = {'X': [1, 2, 3, 4], 'Y': [4, 5, 6, 7]}\n",
        "df = pd.DataFrame(data)\n",
        "df['zscore_A'] = (df['X'] - np.mean(df['X'])) / np.std(df['X'])\n",
        "df['zscore_B'] = (df['Y'] - np.mean(df['Y'])) / np.std(df['Y'])\n",
        "print(df)"
      ],
      "metadata": {
        "colab": {
          "base_uri": "https://localhost:8080/"
        },
        "id": "exhiPw33Rff8",
        "outputId": "66d9f346-2db5-47f9-c0f6-567241d6760d"
      },
      "execution_count": 9,
      "outputs": [
        {
          "output_type": "stream",
          "name": "stdout",
          "text": [
            "   X  Y  zscore_A  zscore_B\n",
            "0  1  4 -1.341641 -1.341641\n",
            "1  2  5 -0.447214 -0.447214\n",
            "2  3  6  0.447214  0.447214\n",
            "3  4  7  1.341641  1.341641\n"
          ]
        }
      ]
    },
    {
      "cell_type": "markdown",
      "source": [
        "Create a DataFrame with random values and calculate the median."
      ],
      "metadata": {
        "id": "GWb_zwoORqop"
      }
    },
    {
      "cell_type": "code",
      "source": [
        "import pandas as pd\n",
        "import numpy as np\n",
        "data = np.random.rand(4, 3)\n",
        "df = pd.DataFrame(data, columns=['X', 'Y', 'Z'])\n",
        "print(df.median())"
      ],
      "metadata": {
        "colab": {
          "base_uri": "https://localhost:8080/"
        },
        "id": "BErDJSpGRr2v",
        "outputId": "07a8ae5e-d159-4d49-fda8-c4d0f3971c7f"
      },
      "execution_count": 10,
      "outputs": [
        {
          "output_type": "stream",
          "name": "stdout",
          "text": [
            "X    0.749177\n",
            "Y    0.532431\n",
            "Z    0.655125\n",
            "dtype: float64\n"
          ]
        }
      ]
    },
    {
      "cell_type": "markdown",
      "source": [
        "Create a DataFrame and apply a custom function to each column."
      ],
      "metadata": {
        "id": "MUxovvNTR0tB"
      }
    },
    {
      "cell_type": "code",
      "source": [
        "import pandas as pd\n",
        "data = {'X': [1, 2, 3], 'Y': [4, 5, 6]}\n",
        "df = pd.DataFrame(data)\n",
        "df = df.apply(lambda x: x + 1)\n",
        "print(df)"
      ],
      "metadata": {
        "colab": {
          "base_uri": "https://localhost:8080/"
        },
        "id": "v8kRhHo0R1Yp",
        "outputId": "657317b3-3b20-45b4-9b64-acc3d7bce4fd"
      },
      "execution_count": 11,
      "outputs": [
        {
          "output_type": "stream",
          "name": "stdout",
          "text": [
            "   X  Y\n",
            "0  2  5\n",
            "1  3  6\n",
            "2  4  7\n"
          ]
        }
      ]
    },
    {
      "cell_type": "markdown",
      "source": [
        "Create a DataFrame with hierarchical index and calculate the mean for each group."
      ],
      "metadata": {
        "id": "4uPA8OJyR7md"
      }
    },
    {
      "cell_type": "code",
      "source": [
        "import pandas as pd\n",
        "arrays = [['X', 'X', 'Y', 'Y'], [1, 2, 1, 2]]\n",
        "index = pd.MultiIndex.from_arrays(arrays, names=('Group', 'Number'))\n",
        "data = {'Value': [10, 20, 30, 40]}\n",
        "df = pd.DataFrame(data, index=index)\n",
        "grouped_df = df.groupby('Group').mean()\n",
        "print(grouped_df)"
      ],
      "metadata": {
        "colab": {
          "base_uri": "https://localhost:8080/"
        },
        "id": "_3M_YUv0R8Fv",
        "outputId": "9872dc3a-6f45-4e18-e139-4d6f70dfa9d4"
      },
      "execution_count": 12,
      "outputs": [
        {
          "output_type": "stream",
          "name": "stdout",
          "text": [
            "       Value\n",
            "Group       \n",
            "X       15.0\n",
            "Y       35.0\n"
          ]
        }
      ]
    },
    {
      "cell_type": "markdown",
      "source": [
        "Create a DataFrame and calculate the percentage of missing values in each column."
      ],
      "metadata": {
        "id": "C0Iv9AaYSDit"
      }
    },
    {
      "cell_type": "code",
      "source": [
        "import pandas as pd\n",
        "data = {'X': [1, 2, None, 4], 'Y': [4, None, 6, 8]}\n",
        "df = pd.DataFrame(data)\n",
        "missing_percentage = df.isnull().mean() * 100\n",
        "print(missing_percentage)"
      ],
      "metadata": {
        "colab": {
          "base_uri": "https://localhost:8080/"
        },
        "id": "3yq-smDhSD_U",
        "outputId": "aad20990-3f4f-42bd-c113-369c47d74ec0"
      },
      "execution_count": 13,
      "outputs": [
        {
          "output_type": "stream",
          "name": "stdout",
          "text": [
            "X    25.0\n",
            "Y    25.0\n",
            "dtype: float64\n"
          ]
        }
      ]
    },
    {
      "cell_type": "markdown",
      "source": [
        "Create a DataFrame and apply a custom function to each row."
      ],
      "metadata": {
        "id": "ghPOeT4QSLI4"
      }
    },
    {
      "cell_type": "code",
      "source": [
        "import pandas as pd\n",
        "data = {'X': [1, 2, 3], 'Y': [4, 5, 6]}\n",
        "df = pd.DataFrame(data)\n",
        "df['Sum'] = df.apply(lambda row: row['X'] + row['Y'], axis=1)\n",
        "print(df)"
      ],
      "metadata": {
        "colab": {
          "base_uri": "https://localhost:8080/"
        },
        "id": "_NGJ6oebSLkj",
        "outputId": "4d350566-fe58-44fe-8d8e-fecb9e799eeb"
      },
      "execution_count": 14,
      "outputs": [
        {
          "output_type": "stream",
          "name": "stdout",
          "text": [
            "   X  Y  Sum\n",
            "0  1  4    5\n",
            "1  2  5    7\n",
            "2  3  6    9\n"
          ]
        }
      ]
    },
    {
      "cell_type": "markdown",
      "source": [
        "Create a DataFrame with random values and calculate the quantiles."
      ],
      "metadata": {
        "id": "gkfKmRC_SQtW"
      }
    },
    {
      "cell_type": "code",
      "source": [
        "import pandas as pd\n",
        "import numpy as np\n",
        "data = np.random.rand(4, 3)\n",
        "df = pd.DataFrame(data, columns=['X', 'Y', 'Z'])\n",
        "print(df.quantile([0.25, 0.5, 0.75]))"
      ],
      "metadata": {
        "colab": {
          "base_uri": "https://localhost:8080/"
        },
        "id": "sfCd326YSRJI",
        "outputId": "687cb828-1312-499a-cd36-c8739536ca1a"
      },
      "execution_count": 15,
      "outputs": [
        {
          "output_type": "stream",
          "name": "stdout",
          "text": [
            "             X         Y         Z\n",
            "0.25  0.288570  0.438385  0.321990\n",
            "0.50  0.568169  0.626097  0.431054\n",
            "0.75  0.790837  0.810459  0.608168\n"
          ]
        }
      ]
    },
    {
      "cell_type": "code",
      "source": [],
      "metadata": {
        "id": "T-OHh6icSTCE"
      },
      "execution_count": null,
      "outputs": []
    }
  ]
}