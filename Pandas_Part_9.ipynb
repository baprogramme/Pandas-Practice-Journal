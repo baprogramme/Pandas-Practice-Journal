{
  "nbformat": 4,
  "nbformat_minor": 0,
  "metadata": {
    "colab": {
      "provenance": [],
      "authorship_tag": "ABX9TyNdA+MkaV8QfT+cByV/1OLO"
    },
    "kernelspec": {
      "name": "python3",
      "display_name": "Python 3"
    },
    "language_info": {
      "name": "python"
    }
  },
  "cells": [
    {
      "cell_type": "markdown",
      "source": [
        "Create a DataFrame with random values and calculate the expanding sum."
      ],
      "metadata": {
        "id": "AoUfC-qVv4Td"
      }
    },
    {
      "cell_type": "code",
      "source": [
        "import pandas as pd\n",
        "import numpy as np\n",
        "data = np.random.rand(4, 3)\n",
        "df = pd.DataFrame(data, columns=['X', 'Y', 'Z'])\n",
        "df['Expanding_Sum'] = df['X'].expanding().sum()\n",
        "print(df)\n"
      ],
      "metadata": {
        "colab": {
          "base_uri": "https://localhost:8080/"
        },
        "id": "1UTAJa7GysXy",
        "outputId": "901bf438-59ad-47c3-b0cc-0bed272a78a2"
      },
      "execution_count": 1,
      "outputs": [
        {
          "output_type": "stream",
          "name": "stdout",
          "text": [
            "          X         Y         Z  Expanding_Sum\n",
            "0  0.279953  0.242667  0.263232       0.279953\n",
            "1  0.253010  0.689789  0.518890       0.532963\n",
            "2  0.258015  0.090780  0.545654       0.790978\n",
            "3  0.420735  0.414727  0.412624       1.211713\n"
          ]
        }
      ]
    },
    {
      "cell_type": "markdown",
      "source": [
        "Create a DataFrame and calculate the expanding minimum for each group."
      ],
      "metadata": {
        "id": "xfMALD3RzCUc"
      }
    },
    {
      "cell_type": "code",
      "source": [
        "import pandas as pd\n",
        "data = {'X': ['foo', 'bar', 'foo', 'bar'], 'Y': [1, 2, 3, 4]}\n",
        "df = pd.DataFrame(data)\n",
        "df['Expanding_Min'] = df.groupby('X')['Y'].expanding().min().reset_index(level=0, drop=True)\n",
        "print(df)\n"
      ],
      "metadata": {
        "colab": {
          "base_uri": "https://localhost:8080/"
        },
        "id": "MSf97eUTzMSk",
        "outputId": "6fd88cf6-1594-4aa2-c398-ca73fb256e6a"
      },
      "execution_count": 2,
      "outputs": [
        {
          "output_type": "stream",
          "name": "stdout",
          "text": [
            "     X  Y  Expanding_Min\n",
            "0  foo  1            1.0\n",
            "1  bar  2            2.0\n",
            "2  foo  3            1.0\n",
            "3  bar  4            2.0\n"
          ]
        }
      ]
    },
    {
      "cell_type": "markdown",
      "source": [
        "Create a DataFrame with random values and calculate the expanding maximum for each group."
      ],
      "metadata": {
        "id": "Ct9a0kdXz3xU"
      }
    },
    {
      "cell_type": "code",
      "source": [
        "import pandas as pd\n",
        "import numpy as np\n",
        "data = np.random.rand(4, 3)\n",
        "df = pd.DataFrame(data, columns=['X', 'Y', 'Z'])\n",
        "df['Expanding_Max'] = df.groupby('X')['Y'].expanding().max().reset_index(level=0, drop=True)\n",
        "print(df)"
      ],
      "metadata": {
        "colab": {
          "base_uri": "https://localhost:8080/"
        },
        "id": "oWUoJGZlz40I",
        "outputId": "c90c2d8f-cdf9-48c3-e53b-948cf393f681"
      },
      "execution_count": 3,
      "outputs": [
        {
          "output_type": "stream",
          "name": "stdout",
          "text": [
            "          X         Y         Z  Expanding_Max\n",
            "0  0.485688  0.258438  0.637536       0.258438\n",
            "1  0.180713  0.850525  0.724967       0.850525\n",
            "2  0.880736  0.544766  0.029537       0.544766\n",
            "3  0.481826  0.769826  0.942657       0.769826\n"
          ]
        }
      ]
    },
    {
      "cell_type": "markdown",
      "source": [
        "Create a DataFrame and calculate the expanding variance for each group."
      ],
      "metadata": {
        "id": "DBXM4F7s0Jiq"
      }
    },
    {
      "cell_type": "code",
      "source": [
        "import pandas as pd\n",
        "data = {'X': ['foo', 'bar', 'foo', 'bar'], 'Y': [1, 2, 3, 4]}\n",
        "df = pd.DataFrame(data)\n",
        "df['Expanding_Var'] = df.groupby('X')['Y'].expanding().var().reset_index(level=0, drop=True)\n",
        "print(df)"
      ],
      "metadata": {
        "colab": {
          "base_uri": "https://localhost:8080/"
        },
        "id": "nN537Vc70LB_",
        "outputId": "ab335e1a-10e9-4b80-990c-608145923170"
      },
      "execution_count": 4,
      "outputs": [
        {
          "output_type": "stream",
          "name": "stdout",
          "text": [
            "     X  Y  Expanding_Var\n",
            "0  foo  1            NaN\n",
            "1  bar  2            NaN\n",
            "2  foo  3            2.0\n",
            "3  bar  4            2.0\n"
          ]
        }
      ]
    },
    {
      "cell_type": "markdown",
      "source": [
        "Create a DataFrame with random values and calculate the expanding standard deviation."
      ],
      "metadata": {
        "id": "g7FNita90iTC"
      }
    },
    {
      "cell_type": "code",
      "source": [
        "import pandas as pd\n",
        "import numpy as np\n",
        "data = np.random.rand(4, 3)\n",
        "df = pd.DataFrame(data, columns=['X', 'Y', 'Z'])\n",
        "df['Expanding_Std'] = df['X'].expanding().std()\n",
        "print(df)"
      ],
      "metadata": {
        "colab": {
          "base_uri": "https://localhost:8080/"
        },
        "id": "59kWEmi90jnT",
        "outputId": "7fb9bef7-1a0d-4277-de11-c64449ad5ffe"
      },
      "execution_count": 5,
      "outputs": [
        {
          "output_type": "stream",
          "name": "stdout",
          "text": [
            "          X         Y         Z  Expanding_Std\n",
            "0  0.063505  0.046210  0.950504            NaN\n",
            "1  0.609783  0.020968  0.147638       0.386277\n",
            "2  0.014670  0.644802  0.143463       0.330395\n",
            "3  0.656099  0.120649  0.988060       0.343961\n"
          ]
        }
      ]
    },
    {
      "cell_type": "markdown",
      "source": [
        "Create a DataFrame and calculate the expanding covariance."
      ],
      "metadata": {
        "id": "h9UlWfMb0rBn"
      }
    },
    {
      "cell_type": "code",
      "source": [
        "import pandas as pd\n",
        "data = {'X': [1, 2, 3, 4], 'Y': [4, 3, 2, 1]}\n",
        "df = pd.DataFrame(data)\n",
        "df['Expanding_Cov'] = df['X'].expanding().cov(df['Y'])\n",
        "print(df)"
      ],
      "metadata": {
        "colab": {
          "base_uri": "https://localhost:8080/"
        },
        "id": "_vPeBVah0saL",
        "outputId": "ba057eef-5c5f-4adf-8e36-ebb6004b31fd"
      },
      "execution_count": 6,
      "outputs": [
        {
          "output_type": "stream",
          "name": "stdout",
          "text": [
            "   X  Y  Expanding_Cov\n",
            "0  1  4            NaN\n",
            "1  2  3      -0.500000\n",
            "2  3  2      -1.000000\n",
            "3  4  1      -1.666667\n"
          ]
        }
      ]
    },
    {
      "cell_type": "markdown",
      "source": [
        "Create a DataFrame with random values and calculate the expanding correlation."
      ],
      "metadata": {
        "id": "CuH8rXsl059l"
      }
    },
    {
      "cell_type": "code",
      "source": [
        "import pandas as pd\n",
        "import numpy as np\n",
        "data = np.random.rand(4, 3)\n",
        "df = pd.DataFrame(data, columns=['X', 'Y', 'Z'])\n",
        "df['Expanding_Corr'] = df['X'].expanding().corr(df['Y'])\n",
        "print(df)"
      ],
      "metadata": {
        "colab": {
          "base_uri": "https://localhost:8080/"
        },
        "id": "hPXFFk7T07JK",
        "outputId": "4491ed58-868f-480b-9547-78310fbf263b"
      },
      "execution_count": 7,
      "outputs": [
        {
          "output_type": "stream",
          "name": "stdout",
          "text": [
            "          X         Y         Z  Expanding_Corr\n",
            "0  0.146851  0.691556  0.355429             NaN\n",
            "1  0.366923  0.988267  0.880237        1.000000\n",
            "2  0.685525  0.771727  0.593348        0.158343\n",
            "3  0.569416  0.438665  0.488473       -0.216986\n"
          ]
        }
      ]
    },
    {
      "cell_type": "markdown",
      "source": [
        "Create a DataFrame and calculate the expanding median."
      ],
      "metadata": {
        "id": "83KFy48N1DHt"
      }
    },
    {
      "cell_type": "code",
      "source": [
        "import pandas as pd\n",
        "data = {'X': [1, 2, 3, 4, 5, 6]}\n",
        "df = pd.DataFrame(data)\n",
        "df['Expanding_Median'] = df['X'].expanding().median()\n",
        "print(df)\n"
      ],
      "metadata": {
        "colab": {
          "base_uri": "https://localhost:8080/"
        },
        "id": "Ft7YWpg71EWm",
        "outputId": "dab5c3c7-b65b-49bc-8d96-2387287f91f3"
      },
      "execution_count": 8,
      "outputs": [
        {
          "output_type": "stream",
          "name": "stdout",
          "text": [
            "   X  Expanding_Median\n",
            "0  1               1.0\n",
            "1  2               1.5\n",
            "2  3               2.0\n",
            "3  4               2.5\n",
            "4  5               3.0\n",
            "5  6               3.5\n"
          ]
        }
      ]
    },
    {
      "cell_type": "markdown",
      "source": [
        "Create a DataFrame with datetime index and calculate the expanding mean for each group."
      ],
      "metadata": {
        "id": "zZgOfo6x1UF2"
      }
    },
    {
      "cell_type": "code",
      "source": [
        "import pandas as pd\n",
        "date_range = pd.date_range(start='1/1/2020', periods=10, freq='D')\n",
        "data = {'X': ['foo', 'bar', 'foo', 'bar', 'foo', 'bar', 'foo', 'bar', 'foo', 'bar'], 'Y': range(10)}\n",
        "df = pd.DataFrame(data, index=date_range)\n",
        "df['Expanding_Mean'] = df.groupby('X')['Y'].expanding().mean().reset_index(level=0, drop=True)\n",
        "print(df)\n"
      ],
      "metadata": {
        "colab": {
          "base_uri": "https://localhost:8080/"
        },
        "id": "cC9o0CSO1VM1",
        "outputId": "4ac0c035-0714-4ce6-a8d1-d21a36e22351"
      },
      "execution_count": 9,
      "outputs": [
        {
          "output_type": "stream",
          "name": "stdout",
          "text": [
            "              X  Y  Expanding_Mean\n",
            "2020-01-01  foo  0             0.0\n",
            "2020-01-02  bar  1             1.0\n",
            "2020-01-03  foo  2             1.0\n",
            "2020-01-04  bar  3             2.0\n",
            "2020-01-05  foo  4             2.0\n",
            "2020-01-06  bar  5             3.0\n",
            "2020-01-07  foo  6             3.0\n",
            "2020-01-08  bar  7             4.0\n",
            "2020-01-09  foo  8             4.0\n",
            "2020-01-10  bar  9             5.0\n"
          ]
        }
      ]
    },
    {
      "cell_type": "markdown",
      "source": [
        "Create a DataFrame with random values and calculate the rolling sum for each group."
      ],
      "metadata": {
        "id": "1hBnt-hS1ix8"
      }
    },
    {
      "cell_type": "code",
      "source": [
        "import pandas as pd\n",
        "import numpy as np\n",
        "data = np.random.rand(10, 3)\n",
        "df = pd.DataFrame(data, columns=['X', 'Y', 'Z'])\n",
        "df['Rolling_Sum'] = df.groupby('X')['Y'].rolling(window=3).sum().reset_index(level=0, drop=True)\n",
        "print(df)\n"
      ],
      "metadata": {
        "colab": {
          "base_uri": "https://localhost:8080/"
        },
        "id": "ClGcq2kJ1j88",
        "outputId": "997adbac-bf9f-4463-ba18-dd0ea62715bb"
      },
      "execution_count": 10,
      "outputs": [
        {
          "output_type": "stream",
          "name": "stdout",
          "text": [
            "          X         Y         Z  Rolling_Sum\n",
            "0  0.150614  0.522474  0.067544          NaN\n",
            "1  0.767225  0.561014  0.165691          NaN\n",
            "2  0.590939  0.142581  0.569520          NaN\n",
            "3  0.921020  0.172949  0.618243          NaN\n",
            "4  0.750561  0.737675  0.402823          NaN\n",
            "5  0.601610  0.775836  0.014694          NaN\n",
            "6  0.290499  0.728345  0.128303          NaN\n",
            "7  0.312356  0.527451  0.967679          NaN\n",
            "8  0.631346  0.776145  0.417522          NaN\n",
            "9  0.312240  0.870804  0.379951          NaN\n"
          ]
        }
      ]
    },
    {
      "cell_type": "code",
      "source": [],
      "metadata": {
        "id": "XigyipKS1mI1"
      },
      "execution_count": null,
      "outputs": []
    }
  ]
}