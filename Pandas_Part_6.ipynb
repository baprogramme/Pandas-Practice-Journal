{
  "nbformat": 4,
  "nbformat_minor": 0,
  "metadata": {
    "colab": {
      "provenance": [],
      "authorship_tag": "ABX9TyNkVP9y9KNN16ja3z5CLDU4"
    },
    "kernelspec": {
      "name": "python3",
      "display_name": "Python 3"
    },
    "language_info": {
      "name": "python"
    }
  },
  "cells": [
    {
      "cell_type": "markdown",
      "source": [
        "Calculate the rank of values in each column of a DataFrame."
      ],
      "metadata": {
        "id": "HTaDZTnxKqZn"
      }
    },
    {
      "cell_type": "code",
      "source": [
        "import pandas as pd\n",
        "data = {'X': [3, 1, 4, 1], 'Y': [2, 3, 1, 4]}\n",
        "df = pd.DataFrame(data)\n",
        "df['Rank_A'] = df['X'].rank()\n",
        "df['Rank_B'] = df['Y'].rank()\n",
        "print(df)"
      ],
      "metadata": {
        "colab": {
          "base_uri": "https://localhost:8080/"
        },
        "id": "sw1y8ZWEKq_I",
        "outputId": "e00463f5-f748-4d79-d042-86e302d4975a"
      },
      "execution_count": 1,
      "outputs": [
        {
          "output_type": "stream",
          "name": "stdout",
          "text": [
            "   X  Y  Rank_A  Rank_B\n",
            "0  3  2     3.0     2.0\n",
            "1  1  3     1.5     3.0\n",
            "2  4  1     4.0     1.0\n",
            "3  1  4     1.5     4.0\n"
          ]
        }
      ]
    },
    {
      "cell_type": "markdown",
      "source": [
        "Filter rows based on multiple string conditions."
      ],
      "metadata": {
        "id": "kvQ29LQjK_Jv"
      }
    },
    {
      "cell_type": "code",
      "source": [
        "import pandas as pd\n",
        "data = {'X': ['foo', 'bar', 'baz', 'qux']}\n",
        "df = pd.DataFrame(data)\n",
        "filtered_df = df[df['X'].str.contains('ba|qu')]\n",
        "print(filtered_df)"
      ],
      "metadata": {
        "colab": {
          "base_uri": "https://localhost:8080/"
        },
        "id": "nDwT3qosLAG9",
        "outputId": "c138bd8c-dd2f-4129-a638-1d085b585f5b"
      },
      "execution_count": 2,
      "outputs": [
        {
          "output_type": "stream",
          "name": "stdout",
          "text": [
            "     X\n",
            "1  bar\n",
            "2  baz\n",
            "3  qux\n"
          ]
        }
      ]
    },
    {
      "cell_type": "markdown",
      "source": [
        "Create a DataFrame and calculate the kurtosis."
      ],
      "metadata": {
        "id": "P5Hyjp_sLFB-"
      }
    },
    {
      "cell_type": "code",
      "source": [
        "import pandas as pd\n",
        "import numpy as np\n",
        "data = np.random.rand(4, 3)\n",
        "df = pd.DataFrame(data, columns=['X', 'Y', 'Z'])\n",
        "print(df.kurt())\n"
      ],
      "metadata": {
        "colab": {
          "base_uri": "https://localhost:8080/"
        },
        "id": "KCz2iIFBLCrJ",
        "outputId": "faca9759-0b0b-40e9-f169-90c9d3ab2520"
      },
      "execution_count": 3,
      "outputs": [
        {
          "output_type": "stream",
          "name": "stdout",
          "text": [
            "X   -0.832995\n",
            "Y   -3.427652\n",
            "Z   -1.360822\n",
            "dtype: float64\n"
          ]
        }
      ]
    },
    {
      "cell_type": "markdown",
      "source": [
        "Calculate the cumulative product of a column in a DataFrame."
      ],
      "metadata": {
        "id": "ZoU9GV4mLXpC"
      }
    },
    {
      "cell_type": "code",
      "source": [
        "import pandas as pd\n",
        "data = {'X': [1, 2, 3, 4]}\n",
        "df = pd.DataFrame(data)\n",
        "df['Cumulative_Product'] = df['X'].cumprod()\n",
        "print(df)\n"
      ],
      "metadata": {
        "colab": {
          "base_uri": "https://localhost:8080/"
        },
        "id": "c-yPD2toLUbq",
        "outputId": "e7df9667-8ceb-47b3-c8cf-b82c7b4fbe48"
      },
      "execution_count": 4,
      "outputs": [
        {
          "output_type": "stream",
          "name": "stdout",
          "text": [
            "   X  Cumulative_Product\n",
            "0  1                   1\n",
            "1  2                   2\n",
            "2  3                   6\n",
            "3  4                  24\n"
          ]
        }
      ]
    },
    {
      "cell_type": "markdown",
      "source": [
        "Create a DataFrame and calculate the rolling standard deviation."
      ],
      "metadata": {
        "id": "TQlkyfS6LgNJ"
      }
    },
    {
      "cell_type": "code",
      "source": [
        "import pandas as pd\n",
        "data = {'X': [1, 2, 3, 4, 5, 6]}\n",
        "df = pd.DataFrame(data)\n",
        "df['Rolling_Std'] = df['X'].rolling(window=3).std()\n",
        "print(df)\n"
      ],
      "metadata": {
        "colab": {
          "base_uri": "https://localhost:8080/"
        },
        "id": "wK4yZ03YLchN",
        "outputId": "8a0ad226-cc8d-4044-e16b-9a8acd42f2ed"
      },
      "execution_count": 5,
      "outputs": [
        {
          "output_type": "stream",
          "name": "stdout",
          "text": [
            "   X  Rolling_Std\n",
            "0  1          NaN\n",
            "1  2          NaN\n",
            "2  3          1.0\n",
            "3  4          1.0\n",
            "4  5          1.0\n",
            "5  6          1.0\n"
          ]
        }
      ]
    },
    {
      "cell_type": "markdown",
      "source": [
        "Create a DataFrame and calculate the expanding mean."
      ],
      "metadata": {
        "id": "HMTS05t7Lr5a"
      }
    },
    {
      "cell_type": "code",
      "source": [
        "import pandas as pd\n",
        "data = {'X': [1, 2, 3, 4, 5, 6]}\n",
        "df = pd.DataFrame(data)\n",
        "df['Expanding_Mean'] = df['X'].expanding().mean()\n",
        "print(df)\n"
      ],
      "metadata": {
        "colab": {
          "base_uri": "https://localhost:8080/"
        },
        "id": "BNP43m2VLiyM",
        "outputId": "6919b4b8-d620-479e-edb4-7f48e385c048"
      },
      "execution_count": 6,
      "outputs": [
        {
          "output_type": "stream",
          "name": "stdout",
          "text": [
            "   X  Expanding_Mean\n",
            "0  1             1.0\n",
            "1  2             1.5\n",
            "2  3             2.0\n",
            "3  4             2.5\n",
            "4  5             3.0\n",
            "5  6             3.5\n"
          ]
        }
      ]
    },
    {
      "cell_type": "markdown",
      "source": [
        "Create a DataFrame with random values and calculate the covariance matrix."
      ],
      "metadata": {
        "id": "RLfSPS7OL-PP"
      }
    },
    {
      "cell_type": "code",
      "source": [
        "import pandas as pd\n",
        "import numpy as np\n",
        "data = np.random.rand(4, 3)\n",
        "df = pd.DataFrame(data, columns=['X', 'Y', 'Z'])\n",
        "print(df.cov())\n"
      ],
      "metadata": {
        "colab": {
          "base_uri": "https://localhost:8080/"
        },
        "id": "HID0InMULucu",
        "outputId": "5d684ef3-3c1f-4e22-fb2b-a29fecb8c6d5"
      },
      "execution_count": 7,
      "outputs": [
        {
          "output_type": "stream",
          "name": "stdout",
          "text": [
            "          X         Y         Z\n",
            "X  0.169715  0.026877  0.040279\n",
            "Y  0.026877  0.058735 -0.063266\n",
            "Z  0.040279 -0.063266  0.106872\n"
          ]
        }
      ]
    },
    {
      "cell_type": "markdown",
      "source": [
        "Create a DataFrame with random values and calculate the correlation matrix."
      ],
      "metadata": {
        "id": "c59inW_7MGQw"
      }
    },
    {
      "cell_type": "code",
      "source": [
        "import pandas as pd\n",
        "import numpy as np\n",
        "data = np.random.rand(4, 3)\n",
        "df = pd.DataFrame(data, columns=['X', 'Y', 'Z'])\n",
        "print(df.corr())\n"
      ],
      "metadata": {
        "colab": {
          "base_uri": "https://localhost:8080/"
        },
        "id": "xSfLI7eXMA25",
        "outputId": "9cdb5f62-7e31-461a-c25a-78f83b2050bf"
      },
      "execution_count": 8,
      "outputs": [
        {
          "output_type": "stream",
          "name": "stdout",
          "text": [
            "          X         Y         Z\n",
            "X  1.000000  0.465522  0.807834\n",
            "Y  0.465522  1.000000  0.892018\n",
            "Z  0.807834  0.892018  1.000000\n"
          ]
        }
      ]
    },
    {
      "cell_type": "markdown",
      "source": [
        "Create a DataFrame and calculate the rolling correlation between two columns."
      ],
      "metadata": {
        "id": "ebbcgEbdMMHb"
      }
    },
    {
      "cell_type": "code",
      "source": [
        "import pandas as pd\n",
        "data = {'X': [1, 2, 3, 4, 5, 6], 'Y': [6, 5, 4, 3, 2, 1]}\n",
        "df = pd.DataFrame(data)\n",
        "df['Rolling_Corr'] = df['X'].rolling(window=3).corr(df['Y'])\n",
        "print(df)\n"
      ],
      "metadata": {
        "colab": {
          "base_uri": "https://localhost:8080/"
        },
        "id": "cIENhvMbMJhL",
        "outputId": "02459901-7bf7-431c-99ae-2c6feac7a34c"
      },
      "execution_count": 9,
      "outputs": [
        {
          "output_type": "stream",
          "name": "stdout",
          "text": [
            "   X  Y  Rolling_Corr\n",
            "0  1  6           NaN\n",
            "1  2  5           NaN\n",
            "2  3  4          -1.0\n",
            "3  4  3          -1.0\n",
            "4  5  2          -1.0\n",
            "5  6  1          -1.0\n"
          ]
        }
      ]
    },
    {
      "cell_type": "markdown",
      "source": [
        "Create a DataFrame and calculate the expanding variance."
      ],
      "metadata": {
        "id": "AJ3ROjtoMSBO"
      }
    },
    {
      "cell_type": "code",
      "source": [
        "import pandas as pd\n",
        "data = {'X': [1, 2, 3, 4, 5, 6]}\n",
        "df = pd.DataFrame(data)\n",
        "df['Expanding_Var'] = df['X'].expanding().var()\n",
        "print(df)\n"
      ],
      "metadata": {
        "colab": {
          "base_uri": "https://localhost:8080/"
        },
        "id": "I0fe7A5PMOgD",
        "outputId": "417601bf-1f9e-4e1e-b9c5-20772f750c4a"
      },
      "execution_count": 10,
      "outputs": [
        {
          "output_type": "stream",
          "name": "stdout",
          "text": [
            "   X  Expanding_Var\n",
            "0  1            NaN\n",
            "1  2       0.500000\n",
            "2  3       1.000000\n",
            "3  4       1.666667\n",
            "4  5       2.500000\n",
            "5  6       3.500000\n"
          ]
        }
      ]
    },
    {
      "cell_type": "code",
      "source": [],
      "metadata": {
        "id": "2eWUGk40MUcF"
      },
      "execution_count": null,
      "outputs": []
    }
  ]
}