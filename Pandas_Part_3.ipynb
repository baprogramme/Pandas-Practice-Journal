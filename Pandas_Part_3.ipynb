{
  "nbformat": 4,
  "nbformat_minor": 0,
  "metadata": {
    "colab": {
      "provenance": [],
      "authorship_tag": "ABX9TyOkSxuhxqDdcGXnhEvIsUEo"
    },
    "kernelspec": {
      "name": "python3",
      "display_name": "Python 3"
    },
    "language_info": {
      "name": "python"
    }
  },
  "cells": [
    {
      "cell_type": "markdown",
      "source": [
        "Create a DataFrame from a list of dictionaries."
      ],
      "metadata": {
        "id": "15VDlLQ3uky9"
      }
    },
    {
      "cell_type": "code",
      "source": [
        "import pandas as pd\n",
        "data = [{'X': 1, 'Y': 2}, {'X': 3, 'Y': 4}]\n",
        "df = pd.DataFrame(data)\n",
        "print(df)"
      ],
      "metadata": {
        "colab": {
          "base_uri": "https://localhost:8080/"
        },
        "id": "ADTzV5itvEC9",
        "outputId": "c89643a2-9c08-4037-c5a1-e2d0b09d20bf"
      },
      "execution_count": null,
      "outputs": [
        {
          "output_type": "stream",
          "name": "stdout",
          "text": [
            "   X  Y\n",
            "0  1  2\n",
            "1  3  4\n"
          ]
        }
      ]
    },
    {
      "cell_type": "markdown",
      "source": [
        "Rename columns in a DataFrame."
      ],
      "metadata": {
        "id": "i-8f7ehavL_s"
      }
    },
    {
      "cell_type": "code",
      "source": [
        "import pandas as pd\n",
        "data = {'X': [1, 2, 3], 'Y': [4, 5, 6]}\n",
        "df = pd.DataFrame(data)\n",
        "df.rename(columns={'X': 'X', 'Y': 'Y'}, inplace=True)\n",
        "print(df)"
      ],
      "metadata": {
        "colab": {
          "base_uri": "https://localhost:8080/"
        },
        "id": "O5hPbR5vvMqY",
        "outputId": "74352664-517a-45c0-bb78-954edcb6d26f"
      },
      "execution_count": null,
      "outputs": [
        {
          "output_type": "stream",
          "name": "stdout",
          "text": [
            "   X  Y\n",
            "0  1  4\n",
            "1  2  5\n",
            "2  3  6\n"
          ]
        }
      ]
    },
    {
      "cell_type": "markdown",
      "source": [
        "Filter rows by multiple conditions."
      ],
      "metadata": {
        "id": "rup_QwzTvmkc"
      }
    },
    {
      "cell_type": "code",
      "source": [
        "import pandas as pd\n",
        "data = {'X': [1, 2, 3, 4], 'Y': [4, 5, 6, 7]}\n",
        "df = pd.DataFrame(data)\n",
        "filtered_df = df[(df['X'] > 2) & (df['Y'] < 7)]\n",
        "print(filtered_df)"
      ],
      "metadata": {
        "colab": {
          "base_uri": "https://localhost:8080/"
        },
        "id": "xpfdeDGjvnLY",
        "outputId": "83c5ff2b-aa3f-449f-842a-62b69c3d6ceb"
      },
      "execution_count": null,
      "outputs": [
        {
          "output_type": "stream",
          "name": "stdout",
          "text": [
            "   X  Y\n",
            "2  3  6\n"
          ]
        }
      ]
    },
    {
      "cell_type": "markdown",
      "source": [
        "Calculate the cumulative sum of a column."
      ],
      "metadata": {
        "id": "kaCUa2Msvuzw"
      }
    },
    {
      "cell_type": "code",
      "source": [
        "import pandas as pd\n",
        "data = {'X': [1, 2, 3, 4]}\n",
        "df = pd.DataFrame(data)\n",
        "df['Cumulative_Sum'] = df['X'].cumsum()\n",
        "print(df)"
      ],
      "metadata": {
        "colab": {
          "base_uri": "https://localhost:8080/"
        },
        "id": "KH3y74YAvvVE",
        "outputId": "170c1153-2fab-4802-ee1a-3be55e8d69e7"
      },
      "execution_count": null,
      "outputs": [
        {
          "output_type": "stream",
          "name": "stdout",
          "text": [
            "   X  Cumulative_Sum\n",
            "0  1               1\n",
            "1  2               3\n",
            "2  3               6\n",
            "3  4              10\n"
          ]
        }
      ]
    },
    {
      "cell_type": "markdown",
      "source": [
        "Drop rows with missing values."
      ],
      "metadata": {
        "id": "QwqgwdeDv3I9"
      }
    },
    {
      "cell_type": "code",
      "source": [
        "import pandas as pd\n",
        "data = {'X': [1, 2, None, 4], 'Y': [4, 5, 6, None]}\n",
        "df = pd.DataFrame(data)\n",
        "df = df.dropna()\n",
        "print(df)\n"
      ],
      "metadata": {
        "colab": {
          "base_uri": "https://localhost:8080/"
        },
        "id": "CbXbGHMXv3tJ",
        "outputId": "b22fa76f-9a5b-4420-c34f-2b5df6d8bfc2"
      },
      "execution_count": null,
      "outputs": [
        {
          "output_type": "stream",
          "name": "stdout",
          "text": [
            "     X    Y\n",
            "0  1.0  4.0\n",
            "1  2.0  5.0\n"
          ]
        }
      ]
    },
    {
      "cell_type": "markdown",
      "source": [
        "Replace values in a DataFrame based on a condition."
      ],
      "metadata": {
        "id": "g7Qtlh44wI1x"
      }
    },
    {
      "cell_type": "code",
      "source": [
        "import pandas as pd\n",
        "data = {'X': [1, 2, 3, 4], 'Y': [5, 6, 7, 8]}\n",
        "df = pd.DataFrame(data)\n",
        "df.loc[df['X'] > 2, 'Y'] = 0\n",
        "print(df)"
      ],
      "metadata": {
        "colab": {
          "base_uri": "https://localhost:8080/"
        },
        "id": "2hAHxkoVwJdn",
        "outputId": "c5ec2bb3-5f73-4973-e912-74fc59e53757"
      },
      "execution_count": null,
      "outputs": [
        {
          "output_type": "stream",
          "name": "stdout",
          "text": [
            "   X  Y\n",
            "0  1  5\n",
            "1  2  6\n",
            "2  3  0\n",
            "3  4  0\n"
          ]
        }
      ]
    },
    {
      "cell_type": "markdown",
      "source": [
        "Create a DataFrame with a MultiIndex."
      ],
      "metadata": {
        "id": "_GgkCWygwVLj"
      }
    },
    {
      "cell_type": "code",
      "source": [
        "import pandas as pd\n",
        "arrays = [['X', 'X', 'Y', 'Y'], [1, 2, 1, 2]]\n",
        "index = pd.MultiIndex.from_arrays(arrays, names=('Group', 'Number'))\n",
        "data = {'Value': [10, 20, 30, 40]}\n",
        "df = pd.DataFrame(data, index=index)\n",
        "print(df)"
      ],
      "metadata": {
        "colab": {
          "base_uri": "https://localhost:8080/"
        },
        "id": "Cui9qiNjwVvc",
        "outputId": "72fb1ef9-6b87-47e4-a3ad-81fc9dfb7cc1"
      },
      "execution_count": null,
      "outputs": [
        {
          "output_type": "stream",
          "name": "stdout",
          "text": [
            "              Value\n",
            "Group Number       \n",
            "X     1          10\n",
            "      2          20\n",
            "Y     1          30\n",
            "      2          40\n"
          ]
        }
      ]
    },
    {
      "cell_type": "markdown",
      "source": [
        "Calculate the rolling mean of a column."
      ],
      "metadata": {
        "id": "lI32EXBLwjBX"
      }
    },
    {
      "cell_type": "code",
      "source": [
        "import pandas as pd\n",
        "data = {'X': [1, 2, 3, 4, 5, 6]}\n",
        "df = pd.DataFrame(data)\n",
        "df['Rolling_Mean'] = df['X'].rolling(window=3).mean()\n",
        "print(df)"
      ],
      "metadata": {
        "colab": {
          "base_uri": "https://localhost:8080/"
        },
        "id": "4-pljlDnwmT-",
        "outputId": "8b9502df-aee6-43e0-f6ec-dda9577d64ef"
      },
      "execution_count": null,
      "outputs": [
        {
          "output_type": "stream",
          "name": "stdout",
          "text": [
            "   X  Rolling_Mean\n",
            "0  1           NaN\n",
            "1  2           NaN\n",
            "2  3           2.0\n",
            "3  4           3.0\n",
            "4  5           4.0\n",
            "5  6           5.0\n"
          ]
        }
      ]
    },
    {
      "cell_type": "markdown",
      "source": [
        "Create a DataFrame from a list of tuples."
      ],
      "metadata": {
        "id": "xYjThJflwtnP"
      }
    },
    {
      "cell_type": "code",
      "source": [
        "import pandas as pd\n",
        "data = [(1, 2), (3, 4), (5, 6)]\n",
        "df = pd.DataFrame(data, columns=['X', 'Y'])\n",
        "print(df)"
      ],
      "metadata": {
        "colab": {
          "base_uri": "https://localhost:8080/"
        },
        "id": "paWWVK7gwuDr",
        "outputId": "1548a468-088e-44f7-ffb5-d2ae812526a3"
      },
      "execution_count": null,
      "outputs": [
        {
          "output_type": "stream",
          "name": "stdout",
          "text": [
            "   X  Y\n",
            "0  1  2\n",
            "1  3  4\n",
            "2  5  6\n"
          ]
        }
      ]
    },
    {
      "cell_type": "markdown",
      "source": [
        "Add a row to a DataFrame."
      ],
      "metadata": {
        "id": "g7r_TsBCwz6D"
      }
    },
    {
      "cell_type": "code",
      "source": [
        "import pandas as pd  # Import the Pandas library\n",
        "# Create a sample DataFrame\n",
        "data = {'X': [1, 2], 'Y': [3, 4]}\n",
        "df = pd.DataFrame(data)\n",
        "\n",
        "# Create a new row as a DataFrame\n",
        "new_row = pd.DataFrame({'X': [5], 'Y': [6]})\n",
        "# Concatenate the new row to the DataFrame\n",
        "df = pd.concat([df, new_row], ignore_index=True)\n",
        "print(df)"
      ],
      "metadata": {
        "colab": {
          "base_uri": "https://localhost:8080/"
        },
        "id": "mGBbVj-Lw0XW",
        "outputId": "aa53db2b-8b39-4388-8ff0-bf3f978fb10d"
      },
      "execution_count": null,
      "outputs": [
        {
          "output_type": "stream",
          "name": "stdout",
          "text": [
            "   X  Y\n",
            "0  1  3\n",
            "1  2  4\n",
            "2  5  6\n"
          ]
        }
      ]
    },
    {
      "cell_type": "code",
      "source": [],
      "metadata": {
        "id": "Xt-c3sIcw3JO"
      },
      "execution_count": null,
      "outputs": []
    }
  ]
}