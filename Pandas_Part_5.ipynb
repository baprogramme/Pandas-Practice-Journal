{
  "nbformat": 4,
  "nbformat_minor": 0,
  "metadata": {
    "colab": {
      "provenance": [],
      "authorship_tag": "ABX9TyMlzWORko9mYKVy5eQ36cHN"
    },
    "kernelspec": {
      "name": "python3",
      "display_name": "Python 3"
    },
    "language_info": {
      "name": "python"
    }
  },
  "cells": [
    {
      "cell_type": "markdown",
      "source": [
        "Create a DataFrame with duplicate rows and remove duplicates."
      ],
      "metadata": {
        "id": "AHI45VQ7RVT1"
      }
    },
    {
      "cell_type": "code",
      "source": [
        "import pandas as pd\n",
        "data = {'X': [1, 2, 2, 3], 'Y': [4, 5, 5, 6]}\n",
        "df = pd.DataFrame(data)\n",
        "df.drop_duplicates(inplace=True)\n",
        "print(df)"
      ],
      "metadata": {
        "colab": {
          "base_uri": "https://localhost:8080/"
        },
        "id": "U0qOREXrRWai",
        "outputId": "d22b0a5f-45ba-4d53-acaf-e3b56a26d369"
      },
      "execution_count": 1,
      "outputs": [
        {
          "output_type": "stream",
          "name": "stdout",
          "text": [
            "   X  Y\n",
            "0  1  4\n",
            "1  2  5\n",
            "3  3  6\n"
          ]
        }
      ]
    },
    {
      "cell_type": "markdown",
      "source": [
        "Create a DataFrame with hierarchical index."
      ],
      "metadata": {
        "id": "iIlyPtL4R8MI"
      }
    },
    {
      "cell_type": "code",
      "source": [
        "import pandas as pd\n",
        "arrays = [['X', 'X', 'Y', 'Y'], [1, 2, 1, 2]]\n",
        "index = pd.MultiIndex.from_arrays(arrays, names=('Group', 'Number'))\n",
        "data = {'Value': [10, 20, 30, 40]}\n",
        "df = pd.DataFrame(data, index=index)\n",
        "print(df)"
      ],
      "metadata": {
        "colab": {
          "base_uri": "https://localhost:8080/"
        },
        "id": "lIvB29VfR9-i",
        "outputId": "ff4bed52-2276-478b-f250-beab888aa198"
      },
      "execution_count": 2,
      "outputs": [
        {
          "output_type": "stream",
          "name": "stdout",
          "text": [
            "              Value\n",
            "Group Number       \n",
            "X     1          10\n",
            "      2          20\n",
            "Y     1          30\n",
            "      2          40\n"
          ]
        }
      ]
    },
    {
      "cell_type": "markdown",
      "source": [
        "Calculate the difference between consecutive rows in a DataFrame."
      ],
      "metadata": {
        "id": "60Y4mxjoSrWe"
      }
    },
    {
      "cell_type": "code",
      "source": [
        "import pandas as pd\n",
        "data = {'X': [1, 3, 6, 10]}\n",
        "df = pd.DataFrame(data)\n",
        "df['Difference'] = df['X'].diff()\n",
        "print(df)"
      ],
      "metadata": {
        "colab": {
          "base_uri": "https://localhost:8080/"
        },
        "id": "IfHOHx_LSsYB",
        "outputId": "d3a9162b-1907-4634-bcf0-73b929bbb5ed"
      },
      "execution_count": 3,
      "outputs": [
        {
          "output_type": "stream",
          "name": "stdout",
          "text": [
            "    X  Difference\n",
            "0   1         NaN\n",
            "1   3         2.0\n",
            "2   6         3.0\n",
            "3  10         4.0\n"
          ]
        }
      ]
    },
    {
      "cell_type": "markdown",
      "source": [
        "Create a DataFrame with hierarchical columns."
      ],
      "metadata": {
        "id": "bZpeETnTTbUN"
      }
    },
    {
      "cell_type": "code",
      "source": [
        "import pandas as pd\n",
        "arrays = [['X', 'X', 'Y', 'Y'], ['C1', 'C2', 'C1', 'C2']]\n",
        "columns = pd.MultiIndex.from_arrays(arrays, names=('Group', 'Type'))\n",
        "data = [[1, 2, 3, 4], [5, 6, 7, 8], [9, 10, 11, 12]]\n",
        "df = pd.DataFrame(data, columns=columns)\n",
        "print(df)"
      ],
      "metadata": {
        "colab": {
          "base_uri": "https://localhost:8080/"
        },
        "id": "Hh-MqWgsTcSh",
        "outputId": "f33b7c54-2755-46dc-faaa-af8afb2c4f3f"
      },
      "execution_count": 4,
      "outputs": [
        {
          "output_type": "stream",
          "name": "stdout",
          "text": [
            "Group  X       Y    \n",
            "Type  C1  C2  C1  C2\n",
            "0      1   2   3   4\n",
            "1      5   6   7   8\n",
            "2      9  10  11  12\n"
          ]
        }
      ]
    },
    {
      "cell_type": "markdown",
      "source": [
        "Filter rows based on the length of strings in a column."
      ],
      "metadata": {
        "id": "BeemUA9tTurC"
      }
    },
    {
      "cell_type": "code",
      "source": [
        "import pandas as pd\n",
        "data = {'X': ['foo', 'bar', 'baz', 'qux']}\n",
        "df = pd.DataFrame(data)\n",
        "filtered_df = df[df['X'].str.len() > 3]\n",
        "print(filtered_df)"
      ],
      "metadata": {
        "colab": {
          "base_uri": "https://localhost:8080/"
        },
        "id": "Hzo-hZdGTvtU",
        "outputId": "cbc44d02-c2b4-4c6e-c912-b76406762a05"
      },
      "execution_count": 5,
      "outputs": [
        {
          "output_type": "stream",
          "name": "stdout",
          "text": [
            "Empty DataFrame\n",
            "Columns: [X]\n",
            "Index: []\n"
          ]
        }
      ]
    },
    {
      "cell_type": "markdown",
      "source": [
        "Calculate the percentage change between rows in a DataFrame."
      ],
      "metadata": {
        "id": "B_6Xx4RVi0cg"
      }
    },
    {
      "cell_type": "code",
      "source": [
        "import pandas as pd\n",
        "data = {'X': [1, 2, 3, 4]}\n",
        "df = pd.DataFrame(data)\n",
        "df['Pct_Change'] = df['X'].pct_change()\n",
        "print(df)"
      ],
      "metadata": {
        "colab": {
          "base_uri": "https://localhost:8080/"
        },
        "id": "yrpacsaYi1QT",
        "outputId": "22097621-4522-46f0-be7b-fb3ddd3f8b3c"
      },
      "execution_count": 6,
      "outputs": [
        {
          "output_type": "stream",
          "name": "stdout",
          "text": [
            "   X  Pct_Change\n",
            "0  1         NaN\n",
            "1  2    1.000000\n",
            "2  3    0.500000\n",
            "3  4    0.333333\n"
          ]
        }
      ]
    },
    {
      "cell_type": "markdown",
      "source": [
        "Create a DataFrame from a dictionary of Series."
      ],
      "metadata": {
        "id": "qsSM6WHqi_kc"
      }
    },
    {
      "cell_type": "code",
      "source": [
        "import pandas as pd\n",
        "data = {'X': pd.Series([1, 2, 3]), 'Y': pd.Series([4, 5, 6])}\n",
        "df = pd.DataFrame(data)\n",
        "print(df)"
      ],
      "metadata": {
        "colab": {
          "base_uri": "https://localhost:8080/"
        },
        "id": "T7hRyifvjAMo",
        "outputId": "000c9167-8f6c-4a31-e7f6-017ffa919a4e"
      },
      "execution_count": 7,
      "outputs": [
        {
          "output_type": "stream",
          "name": "stdout",
          "text": [
            "   X  Y\n",
            "0  1  4\n",
            "1  2  5\n",
            "2  3  6\n"
          ]
        }
      ]
    },
    {
      "cell_type": "markdown",
      "source": [
        "Filter rows based on whether a column value is in a list."
      ],
      "metadata": {
        "id": "hioz3zNsjJvH"
      }
    },
    {
      "cell_type": "code",
      "source": [
        "import pandas as pd\n",
        "data = {'X': [1, 2, 3, 4], 'Y': [5, 6, 7, 8]}\n",
        "df = pd.DataFrame(data)\n",
        "filtered_df = df[df['X'].isin([2, 3])]\n",
        "print(filtered_df)"
      ],
      "metadata": {
        "colab": {
          "base_uri": "https://localhost:8080/"
        },
        "id": "zzhIXlWUjKUy",
        "outputId": "8d30c055-1f42-43ba-c700-80eaf32732dc"
      },
      "execution_count": 8,
      "outputs": [
        {
          "output_type": "stream",
          "name": "stdout",
          "text": [
            "   X  Y\n",
            "1  2  6\n",
            "2  3  7\n"
          ]
        }
      ]
    },
    {
      "cell_type": "markdown",
      "source": [
        "Calculate the z-score of values in a DataFrame."
      ],
      "metadata": {
        "id": "VXcU9KJ5jTWN"
      }
    },
    {
      "cell_type": "code",
      "source": [
        "import pandas as pd\n",
        "import numpy as np\n",
        "data = {'X': [1, 2, 3, 4], 'Y': [4, 5, 6, 7]}\n",
        "df = pd.DataFrame(data)\n",
        "df['zscore_A'] = (df['X'] - np.mean(df['X'])) / np.std(df['X'])\n",
        "print(df)"
      ],
      "metadata": {
        "colab": {
          "base_uri": "https://localhost:8080/"
        },
        "id": "0LjehHnEjT4o",
        "outputId": "05b40399-a384-4bef-ebeb-5c2ab477e9b9"
      },
      "execution_count": 9,
      "outputs": [
        {
          "output_type": "stream",
          "name": "stdout",
          "text": [
            "   X  Y  zscore_A\n",
            "0  1  4 -1.341641\n",
            "1  2  5 -0.447214\n",
            "2  3  6  0.447214\n",
            "3  4  7  1.341641\n"
          ]
        }
      ]
    },
    {
      "cell_type": "markdown",
      "source": [
        "Create a DataFrame with random integers and calculate descriptive statistics."
      ],
      "metadata": {
        "id": "GlRd8RsdjatZ"
      }
    },
    {
      "cell_type": "code",
      "source": [
        "import pandas as pd\n",
        "import numpy as np\n",
        "data = np.random.randint(1, 100, size=(5, 3))\n",
        "df = pd.DataFrame(data, columns=['X', 'Y', 'Z'])\n",
        "print(df.describe())"
      ],
      "metadata": {
        "colab": {
          "base_uri": "https://localhost:8080/"
        },
        "id": "zK5qSgXAjbPb",
        "outputId": "9d97a0e7-5429-47f3-abef-1847c2843fcf"
      },
      "execution_count": 10,
      "outputs": [
        {
          "output_type": "stream",
          "name": "stdout",
          "text": [
            "               X          Y          Z\n",
            "count   5.000000   5.000000   5.000000\n",
            "mean   39.000000  39.600000  30.400000\n",
            "std    27.613403  30.311714  24.172298\n",
            "min     4.000000   8.000000  10.000000\n",
            "25%    26.000000  11.000000  10.000000\n",
            "50%    35.000000  41.000000  29.000000\n",
            "75%    53.000000  61.000000  34.000000\n",
            "max    77.000000  77.000000  69.000000\n"
          ]
        }
      ]
    },
    {
      "cell_type": "code",
      "source": [],
      "metadata": {
        "id": "ul5hIHELjfMM"
      },
      "execution_count": null,
      "outputs": []
    }
  ]
}