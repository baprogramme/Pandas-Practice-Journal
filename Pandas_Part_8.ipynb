{
  "nbformat": 4,
  "nbformat_minor": 0,
  "metadata": {
    "colab": {
      "provenance": [],
      "authorship_tag": "ABX9TyPoDhwHtY73r+gUcBBMp9p6"
    },
    "kernelspec": {
      "name": "python3",
      "display_name": "Python 3"
    },
    "language_info": {
      "name": "python"
    }
  },
  "cells": [
    {
      "cell_type": "markdown",
      "source": [
        "Create a DataFrame and calculate the interquartile range (IQR)."
      ],
      "metadata": {
        "id": "A-OQ0xR52uAT"
      }
    },
    {
      "cell_type": "code",
      "source": [
        "import pandas as pd\n",
        "import numpy as np\n",
        "data = np.random.rand(4, 3)\n",
        "df = pd.DataFrame(data, columns=['X', 'Y', 'Z'])\n",
        "Q1 = df.quantile(0.25)\n",
        "Q3 = df.quantile(0.75)\n",
        "IQR = Q3 - Q1\n",
        "print(IQR)"
      ],
      "metadata": {
        "colab": {
          "base_uri": "https://localhost:8080/"
        },
        "id": "pil42Kww3UFU",
        "outputId": "f3eac5a9-8571-4a0a-cbc9-b9895602b603"
      },
      "execution_count": 1,
      "outputs": [
        {
          "output_type": "stream",
          "name": "stdout",
          "text": [
            "X    0.098827\n",
            "Y    0.323471\n",
            "Z    0.467826\n",
            "dtype: float64\n"
          ]
        }
      ]
    },
    {
      "cell_type": "markdown",
      "source": [
        "Create a DataFrame with datetime index and calculate the rolling mean."
      ],
      "metadata": {
        "id": "PGZ0ScYD3thv"
      }
    },
    {
      "cell_type": "code",
      "source": [
        "import pandas as pd\n",
        "date_range = pd.date_range(start='1/1/2020', periods=10, freq='D')\n",
        "data = {'X': range(10)}\n",
        "df = pd.DataFrame(data, index=date_range)\n",
        "df['Rolling_Mean'] = df['X'].rolling(window=3).mean()\n",
        "print(df)"
      ],
      "metadata": {
        "colab": {
          "base_uri": "https://localhost:8080/"
        },
        "id": "_7aeWNJo3ufi",
        "outputId": "c804eb3c-8873-4c70-e5a9-dbf0f9b2a158"
      },
      "execution_count": 2,
      "outputs": [
        {
          "output_type": "stream",
          "name": "stdout",
          "text": [
            "            X  Rolling_Mean\n",
            "2020-01-01  0           NaN\n",
            "2020-01-02  1           NaN\n",
            "2020-01-03  2           1.0\n",
            "2020-01-04  3           2.0\n",
            "2020-01-05  4           3.0\n",
            "2020-01-06  5           4.0\n",
            "2020-01-07  6           5.0\n",
            "2020-01-08  7           6.0\n",
            "2020-01-09  8           7.0\n",
            "2020-01-10  9           8.0\n"
          ]
        }
      ]
    },
    {
      "cell_type": "markdown",
      "source": [
        "Create a DataFrame and calculate the cumulative maximum."
      ],
      "metadata": {
        "id": "0F4W8eH837aw"
      }
    },
    {
      "cell_type": "code",
      "source": [
        "import pandas as pd\n",
        "data = {'X': [1, 2, 3, 2, 1]}\n",
        "df = pd.DataFrame(data)\n",
        "df['Cumulative_Max'] = df['X'].cummax()\n",
        "print(df)"
      ],
      "metadata": {
        "colab": {
          "base_uri": "https://localhost:8080/"
        },
        "id": "MYrq8L304Bjn",
        "outputId": "846e3696-5a00-4d73-90b9-f1bfe7deef23"
      },
      "execution_count": 3,
      "outputs": [
        {
          "output_type": "stream",
          "name": "stdout",
          "text": [
            "   X  Cumulative_Max\n",
            "0  1               1\n",
            "1  2               2\n",
            "2  3               3\n",
            "3  2               3\n",
            "4  1               3\n"
          ]
        }
      ]
    },
    {
      "cell_type": "markdown",
      "source": [
        "Create a DataFrame and calculate the cumulative minimum."
      ],
      "metadata": {
        "id": "UOiWHqYX4f8q"
      }
    },
    {
      "cell_type": "code",
      "source": [
        "import pandas as pd\n",
        "data = {'X': [1, 2, 3, 2, 1]}\n",
        "df = pd.DataFrame(data)\n",
        "df['Cumulative_Min'] = df['X'].cummin()\n",
        "print(df)"
      ],
      "metadata": {
        "colab": {
          "base_uri": "https://localhost:8080/"
        },
        "id": "Egv1tXtL4giv",
        "outputId": "1dc7f257-a049-4a64-c110-2a9e57d9d2d8"
      },
      "execution_count": 4,
      "outputs": [
        {
          "output_type": "stream",
          "name": "stdout",
          "text": [
            "   X  Cumulative_Min\n",
            "0  1               1\n",
            "1  2               1\n",
            "2  3               1\n",
            "3  2               1\n",
            "4  1               1\n"
          ]
        }
      ]
    },
    {
      "cell_type": "markdown",
      "source": [
        "Create a DataFrame with random values and calculate the cumulative variance."
      ],
      "metadata": {
        "id": "d3i1y93J4loz"
      }
    },
    {
      "cell_type": "code",
      "source": [
        "import pandas as pd\n",
        "import numpy as np\n",
        "data = np.random.rand(10, 3)\n",
        "df = pd.DataFrame(data, columns=['X', 'Y', 'Z'])\n",
        "df['Cumulative_Var'] = df['X'].expanding().var()\n",
        "print(df)"
      ],
      "metadata": {
        "colab": {
          "base_uri": "https://localhost:8080/"
        },
        "id": "_jI_7KRI4mND",
        "outputId": "cc585282-396c-4feb-e0d1-a0498177623c"
      },
      "execution_count": 5,
      "outputs": [
        {
          "output_type": "stream",
          "name": "stdout",
          "text": [
            "          X         Y         Z  Cumulative_Var\n",
            "0  0.351164  0.696068  0.398024             NaN\n",
            "1  0.031114  0.430161  0.194310        0.051216\n",
            "2  0.007903  0.165242  0.630255        0.036800\n",
            "3  0.208173  0.297131  0.310561        0.026059\n",
            "4  0.448700  0.958650  0.399442        0.037438\n",
            "5  0.008957  0.137829  0.861634        0.036647\n",
            "6  0.301520  0.337902  0.674888        0.032790\n",
            "7  0.874619  0.507529  0.293485        0.086022\n",
            "8  0.312892  0.509823  0.220580        0.075397\n",
            "9  0.678980  0.603217  0.173597        0.082717\n"
          ]
        }
      ]
    },
    {
      "cell_type": "markdown",
      "source": [
        "Create a DataFrame and apply a custom function to each element."
      ],
      "metadata": {
        "id": "EWfj5wzI4tQ0"
      }
    },
    {
      "cell_type": "code",
      "source": [
        "import pandas as pd\n",
        "# Create a DataFrame\n",
        "data = {'X': [1, 2, 3], 'Y': [4, 5, 6]}\n",
        "df = pd.DataFrame(data)\n",
        "# Define the custom function\n",
        "def custom_function(x):\n",
        "    return x * 2\n",
        "# Apply the function to each element using map on each column\n",
        "df = df.apply(lambda col: col.map(custom_function))\n",
        "# Print the DataFrame\n",
        "print(df)"
      ],
      "metadata": {
        "colab": {
          "base_uri": "https://localhost:8080/"
        },
        "id": "tLER9IP_4uQk",
        "outputId": "9952e19a-82fb-484e-a149-f29512291efb"
      },
      "execution_count": 6,
      "outputs": [
        {
          "output_type": "stream",
          "name": "stdout",
          "text": [
            "   X   Y\n",
            "0  2   8\n",
            "1  4  10\n",
            "2  6  12\n"
          ]
        }
      ]
    },
    {
      "cell_type": "markdown",
      "source": [
        "Create a DataFrame with random values and calculate the z-score for each element."
      ],
      "metadata": {
        "id": "gWs04s4L5Afw"
      }
    },
    {
      "cell_type": "code",
      "source": [
        "import pandas as pd\n",
        "import numpy as np\n",
        "data = np.random.rand(4, 3)\n",
        "df = pd.DataFrame(data, columns=['X', 'Y', 'Z'])\n",
        "df = df.apply(lambda x: (x - x.mean()) / x.std(), axis=0)\n",
        "print(df)"
      ],
      "metadata": {
        "colab": {
          "base_uri": "https://localhost:8080/"
        },
        "id": "Cf2H7Erl5BP0",
        "outputId": "96d365c2-53b1-4826-c849-7d4e9f98cdf8"
      },
      "execution_count": 7,
      "outputs": [
        {
          "output_type": "stream",
          "name": "stdout",
          "text": [
            "          X         Y         Z\n",
            "0  0.058619  1.399412 -0.685747\n",
            "1  1.258592 -0.005346 -1.029153\n",
            "2 -0.136596 -0.883991  0.848726\n",
            "3 -1.180615 -0.510076  0.866174\n"
          ]
        }
      ]
    },
    {
      "cell_type": "markdown",
      "source": [
        "Create a DataFrame and calculate the cumulative sum for each group."
      ],
      "metadata": {
        "id": "5syUifow5H3f"
      }
    },
    {
      "cell_type": "code",
      "source": [
        "import pandas as pd\n",
        "data = {'X': ['foo', 'bar', 'foo', 'bar'], 'Y': [1, 2, 3, 4]}\n",
        "df = pd.DataFrame(data)\n",
        "df['Cumulative_Sum'] = df.groupby('X')['Y'].cumsum()\n",
        "print(df)"
      ],
      "metadata": {
        "colab": {
          "base_uri": "https://localhost:8080/"
        },
        "id": "OM29pzPY5Im6",
        "outputId": "0af32f7a-26e5-4139-db6b-41eff7bced31"
      },
      "execution_count": 8,
      "outputs": [
        {
          "output_type": "stream",
          "name": "stdout",
          "text": [
            "     X  Y  Cumulative_Sum\n",
            "0  foo  1               1\n",
            "1  bar  2               2\n",
            "2  foo  3               4\n",
            "3  bar  4               6\n"
          ]
        }
      ]
    },
    {
      "cell_type": "markdown",
      "source": [
        "Create a DataFrame with random values and calculate the rank for each element."
      ],
      "metadata": {
        "id": "YN1vE6oW5OsD"
      }
    },
    {
      "cell_type": "code",
      "source": [
        "import pandas as pd\n",
        "import numpy as np\n",
        "data = np.random.rand(4, 3)\n",
        "df = pd.DataFrame(data, columns=['X', 'Y', 'Z'])\n",
        "df = df.rank()\n",
        "print(df)"
      ],
      "metadata": {
        "colab": {
          "base_uri": "https://localhost:8080/"
        },
        "id": "A1xVmM0d5PXS",
        "outputId": "3b6ac2fb-fb16-4f96-aacd-b55a5484ec96"
      },
      "execution_count": 9,
      "outputs": [
        {
          "output_type": "stream",
          "name": "stdout",
          "text": [
            "     X    Y    Z\n",
            "0  3.0  2.0  4.0\n",
            "1  2.0  1.0  3.0\n",
            "2  1.0  3.0  2.0\n",
            "3  4.0  4.0  1.0\n"
          ]
        }
      ]
    },
    {
      "cell_type": "markdown",
      "source": [
        "Create a DataFrame and calculate the cumulative product for each group."
      ],
      "metadata": {
        "id": "6uXVTiKN5VrA"
      }
    },
    {
      "cell_type": "code",
      "source": [
        "import pandas as pd\n",
        "data = {'X': ['foo', 'bar', 'foo', 'bar'], 'Y': [1, 2, 3, 4]}\n",
        "df = pd.DataFrame(data)\n",
        "df['Cumulative_Product'] = df.groupby('X')['Y'].cumprod()\n",
        "print(df)"
      ],
      "metadata": {
        "colab": {
          "base_uri": "https://localhost:8080/"
        },
        "id": "zkkAyUuK5WyF",
        "outputId": "e779b227-ad92-478a-95fc-634d28dfacdc"
      },
      "execution_count": 10,
      "outputs": [
        {
          "output_type": "stream",
          "name": "stdout",
          "text": [
            "     X  Y  Cumulative_Product\n",
            "0  foo  1                   1\n",
            "1  bar  2                   2\n",
            "2  foo  3                   3\n",
            "3  bar  4                   8\n"
          ]
        }
      ]
    },
    {
      "cell_type": "code",
      "source": [],
      "metadata": {
        "id": "HRghPK6L5ZYB"
      },
      "execution_count": null,
      "outputs": []
    }
  ]
}