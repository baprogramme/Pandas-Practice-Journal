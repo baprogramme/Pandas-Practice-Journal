{
  "nbformat": 4,
  "nbformat_minor": 0,
  "metadata": {
    "colab": {
      "provenance": [],
      "authorship_tag": "ABX9TyMHu0GsOBNl3KNENiCE3ddz"
    },
    "kernelspec": {
      "name": "python3",
      "display_name": "Python 3"
    },
    "language_info": {
      "name": "python"
    }
  },
  "cells": [
    {
      "cell_type": "markdown",
      "source": [
        "Create a DataFrame with specific column names."
      ],
      "metadata": {
        "id": "vQ7lC9Ih0CwN"
      }
    },
    {
      "cell_type": "code",
      "source": [
        "import pandas as pd\n",
        "data = {'col1': [1, 2, 3], 'col2': [4, 5, 6]}\n",
        "df = pd.DataFrame(data)\n",
        "print(df)"
      ],
      "metadata": {
        "colab": {
          "base_uri": "https://localhost:8080/"
        },
        "id": "LBX2Boy00GN2",
        "outputId": "3c5bf894-aec4-4022-d8c7-e374de828805"
      },
      "execution_count": 1,
      "outputs": [
        {
          "output_type": "stream",
          "name": "stdout",
          "text": [
            "   col1  col2\n",
            "0     1     4\n",
            "1     2     5\n",
            "2     3     6\n"
          ]
        }
      ]
    },
    {
      "cell_type": "markdown",
      "source": [
        "Calculate the sum of values in each column."
      ],
      "metadata": {
        "id": "oITEACW-0Zh-"
      }
    },
    {
      "cell_type": "code",
      "source": [
        "import pandas as pd\n",
        "data = {'X': [1, 2, 3], 'Y': [4, 5, 6]}\n",
        "df = pd.DataFrame(data)\n",
        "print(df.sum())"
      ],
      "metadata": {
        "colab": {
          "base_uri": "https://localhost:8080/"
        },
        "id": "OTsG3mOO0aW-",
        "outputId": "94974635-5533-4216-d41e-7978677632d3"
      },
      "execution_count": 2,
      "outputs": [
        {
          "output_type": "stream",
          "name": "stdout",
          "text": [
            "X     6\n",
            "Y    15\n",
            "dtype: int64\n"
          ]
        }
      ]
    },
    {
      "cell_type": "markdown",
      "source": [
        "Calculate the mean of values in each row."
      ],
      "metadata": {
        "id": "O8MqqFVi0i-n"
      }
    },
    {
      "cell_type": "code",
      "source": [
        "import pandas as pd\n",
        "data = {'X': [1, 2, 3], 'Y': [4, 5, 6]}\n",
        "df = pd.DataFrame(data)\n",
        "print(df.mean(axis=1))"
      ],
      "metadata": {
        "colab": {
          "base_uri": "https://localhost:8080/"
        },
        "id": "tAUrh8n60jum",
        "outputId": "23b6c15b-4684-4559-c751-632c10d4733a"
      },
      "execution_count": 3,
      "outputs": [
        {
          "output_type": "stream",
          "name": "stdout",
          "text": [
            "0    2.5\n",
            "1    3.5\n",
            "2    4.5\n",
            "dtype: float64\n"
          ]
        }
      ]
    },
    {
      "cell_type": "markdown",
      "source": [
        "Concatenate two DataFrames."
      ],
      "metadata": {
        "id": "HDNCxUI90u2m"
      }
    },
    {
      "cell_type": "code",
      "source": [
        "import pandas as pd\n",
        "data1 = {'X': [1, 2, 3]}\n",
        "data2 = {'Y': [4, 5, 6]}\n",
        "df1 = pd.DataFrame(data1)\n",
        "df2 = pd.DataFrame(data2)\n",
        "concatenated_df = pd.concat([df1, df2], axis=1)\n",
        "print(concatenated_df)"
      ],
      "metadata": {
        "colab": {
          "base_uri": "https://localhost:8080/"
        },
        "id": "40t19zYe0v5V",
        "outputId": "b5d31231-daa0-4eab-a312-2df07544032f"
      },
      "execution_count": 4,
      "outputs": [
        {
          "output_type": "stream",
          "name": "stdout",
          "text": [
            "   X  Y\n",
            "0  1  4\n",
            "1  2  5\n",
            "2  3  6\n"
          ]
        }
      ]
    },
    {
      "cell_type": "markdown",
      "source": [
        "Merge two DataFrames on a key."
      ],
      "metadata": {
        "id": "RceE_kra06dX"
      }
    },
    {
      "cell_type": "code",
      "source": [
        "import pandas as pd\n",
        "data1 = {'key': ['X', 'Y', 'Z'], 'value1': [1, 2, 3]}\n",
        "data2 = {'key': ['X', 'Y', 'D'], 'value2': [4, 5, 6]}\n",
        "df1 = pd.DataFrame(data1)\n",
        "df2 = pd.DataFrame(data2)\n",
        "merged_df = pd.merge(df1, df2, on='key')\n",
        "print(merged_df)"
      ],
      "metadata": {
        "colab": {
          "base_uri": "https://localhost:8080/"
        },
        "id": "LQltErxQ07LV",
        "outputId": "5b778207-5173-4f34-fb8b-08d80cca3898"
      },
      "execution_count": 5,
      "outputs": [
        {
          "output_type": "stream",
          "name": "stdout",
          "text": [
            "  key  value1  value2\n",
            "0   X       1       4\n",
            "1   Y       2       5\n"
          ]
        }
      ]
    },
    {
      "cell_type": "markdown",
      "source": [
        "Create a pivot table from a DataFrame."
      ],
      "metadata": {
        "id": "yReJYViI1DNe"
      }
    },
    {
      "cell_type": "code",
      "source": [
        "import pandas as pd\n",
        "data = {'X': ['foo', 'foo', 'bar', 'bar'], 'Y': ['one', 'two', 'one', 'two'], 'Z': [1, 2, 3, 4]}\n",
        "df = pd.DataFrame(data)\n",
        "pivot_table = df.pivot_table(values='Z', index='X', columns='Y')\n",
        "print(pivot_table)"
      ],
      "metadata": {
        "colab": {
          "base_uri": "https://localhost:8080/"
        },
        "id": "wT7DonIH1EDR",
        "outputId": "8cd006e6-15ba-4c9d-d45a-a543e575d51a"
      },
      "execution_count": 6,
      "outputs": [
        {
          "output_type": "stream",
          "name": "stdout",
          "text": [
            "Y    one  two\n",
            "X            \n",
            "bar  3.0  4.0\n",
            "foo  1.0  2.0\n"
          ]
        }
      ]
    },
    {
      "cell_type": "markdown",
      "source": [
        "Reshape a DataFrame from long to wide format."
      ],
      "metadata": {
        "id": "tYU5kwTL1JdQ"
      }
    },
    {
      "cell_type": "code",
      "source": [
        "import pandas as pd\n",
        "data = {'X': ['foo', 'foo', 'bar', 'bar'], 'Y': ['one', 'two', 'one', 'two'], 'Z': [1, 2, 3, 4]}\n",
        "df = pd.DataFrame(data)\n",
        "wide_df = df.pivot(index='X', columns='Y', values='Z')\n",
        "print(wide_df)"
      ],
      "metadata": {
        "colab": {
          "base_uri": "https://localhost:8080/"
        },
        "id": "uZRvKhpM1J94",
        "outputId": "9e2bebd5-c238-4012-dbb1-35da665755f2"
      },
      "execution_count": 7,
      "outputs": [
        {
          "output_type": "stream",
          "name": "stdout",
          "text": [
            "Y    one  two\n",
            "X            \n",
            "bar    3    4\n",
            "foo    1    2\n"
          ]
        }
      ]
    },
    {
      "cell_type": "markdown",
      "source": [
        "Calculate the correlation between columns in a DataFrame."
      ],
      "metadata": {
        "id": "B22OBrYS1RXc"
      }
    },
    {
      "cell_type": "code",
      "source": [
        "import pandas as pd\n",
        "data = {'X': [1, 2, 3, 4], 'Y': [4, 3, 2, 1]}\n",
        "df = pd.DataFrame(data)\n",
        "correlation = df.corr()\n",
        "print(correlation)"
      ],
      "metadata": {
        "colab": {
          "base_uri": "https://localhost:8080/"
        },
        "id": "aZICKscd1R3p",
        "outputId": "2682de41-9c0b-4e48-b9d1-b4663b800ef6"
      },
      "execution_count": 8,
      "outputs": [
        {
          "output_type": "stream",
          "name": "stdout",
          "text": [
            "     X    Y\n",
            "X  1.0 -1.0\n",
            "Y -1.0  1.0\n"
          ]
        }
      ]
    },
    {
      "cell_type": "markdown",
      "source": [
        "Iterate over rows in a DataFrame using iterrows()."
      ],
      "metadata": {
        "id": "9Uf1qDuH1XE4"
      }
    },
    {
      "cell_type": "code",
      "source": [
        "import pandas as pd\n",
        "data = {'X': [1, 2, 3], 'Y': [4, 5, 6]}\n",
        "df = pd.DataFrame(data)\n",
        "for index, row in df.iterrows():\n",
        "    print(index, row['X'], row['Y'])"
      ],
      "metadata": {
        "colab": {
          "base_uri": "https://localhost:8080/"
        },
        "id": "e4abb20Z1Xkt",
        "outputId": "7fd07c1c-08a2-45e3-e921-112b782b1280"
      },
      "execution_count": 9,
      "outputs": [
        {
          "output_type": "stream",
          "name": "stdout",
          "text": [
            "0 1 4\n",
            "1 2 5\n",
            "2 3 6\n"
          ]
        }
      ]
    },
    {
      "cell_type": "markdown",
      "source": [
        "Apply a function to each element in a DataFrame."
      ],
      "metadata": {
        "id": "t7ZLMIuZ1hPN"
      }
    },
    {
      "cell_type": "code",
      "source": [
        "import pandas as pd  # Import the Pandas library\n",
        "# Create a sample DataFrame\n",
        "data = {'X': [1, 2, 3], 'Y': [4, 5, 6]}\n",
        "df = pd.DataFrame(data)\n",
        "# Apply a function to each element using the map method\n",
        "df = df.apply(lambda col: col.map(lambda x: x * 2))\n",
        "print(df)"
      ],
      "metadata": {
        "colab": {
          "base_uri": "https://localhost:8080/"
        },
        "id": "7kA6nxgi1hwv",
        "outputId": "0c2b8c1d-ab0b-46d9-c58e-540edf0724f9"
      },
      "execution_count": 10,
      "outputs": [
        {
          "output_type": "stream",
          "name": "stdout",
          "text": [
            "   X   Y\n",
            "0  2   8\n",
            "1  4  10\n",
            "2  6  12\n"
          ]
        }
      ]
    },
    {
      "cell_type": "code",
      "source": [],
      "metadata": {
        "id": "ZzPmMrSo1k4U"
      },
      "execution_count": null,
      "outputs": []
    }
  ]
}